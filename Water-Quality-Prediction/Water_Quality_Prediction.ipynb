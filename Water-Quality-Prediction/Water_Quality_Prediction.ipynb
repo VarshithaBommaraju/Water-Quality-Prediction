{
 "cells": [
  {
   "cell_type": "markdown",
   "id": "106f521a-4775-4f4b-addd-c4ba6d8735ff",
   "metadata": {},
   "source": [
    "## Importing all the necessary library"
   ]
  },
  {
   "cell_type": "code",
   "execution_count": 77,
   "id": "80832e9a-0375-4f96-9200-fd0c3dd424c2",
   "metadata": {},
   "outputs": [],
   "source": [
    "import pandas as pd\n",
    "import seaborn as sns\n",
    "import matplotlib.pyplot as plt"
   ]
  },
  {
   "cell_type": "markdown",
   "id": "fd20202c-3c95-4546-81f8-f1d1873dad30",
   "metadata": {},
   "source": [
    "## Basic Exploration"
   ]
  },
  {
   "cell_type": "code",
   "execution_count": 78,
   "id": "dda60b51-4a8a-47f7-a8c1-b213e0aa4a60",
   "metadata": {},
   "outputs": [],
   "source": [
    "# reading csv file\n",
    "df = pd.read_csv(\"water_potability.csv\")"
   ]
  },
  {
   "cell_type": "code",
   "execution_count": 79,
   "id": "7a6514a0-1d77-4198-8ad4-713ea58f03e8",
   "metadata": {},
   "outputs": [
    {
     "name": "stdout",
     "output_type": "stream",
     "text": [
      "Column Names: \n",
      "['ph', 'Hardness', 'Solids', 'Chloramines', 'Sulfate', 'Conductivity', 'Organic_carbon', 'Trihalomethanes', 'Turbidity', 'Potability']\n"
     ]
    }
   ],
   "source": [
    "#Extracting column names from the DataFrame \"df\" and coverting it to a python list\n",
    "columns_list = df.columns.tolist()\n",
    "print(\"Column Names: \")\n",
    "print(columns_list)"
   ]
  },
  {
   "cell_type": "code",
   "execution_count": 80,
   "id": "2608e6a5-21a2-49cd-aff0-d1b4aeebdc4a",
   "metadata": {},
   "outputs": [
    {
     "data": {
      "text/html": [
       "<div>\n",
       "<style scoped>\n",
       "    .dataframe tbody tr th:only-of-type {\n",
       "        vertical-align: middle;\n",
       "    }\n",
       "\n",
       "    .dataframe tbody tr th {\n",
       "        vertical-align: top;\n",
       "    }\n",
       "\n",
       "    .dataframe thead th {\n",
       "        text-align: right;\n",
       "    }\n",
       "</style>\n",
       "<table border=\"1\" class=\"dataframe\">\n",
       "  <thead>\n",
       "    <tr style=\"text-align: right;\">\n",
       "      <th></th>\n",
       "      <th>ph</th>\n",
       "      <th>Hardness</th>\n",
       "      <th>Solids</th>\n",
       "      <th>Chloramines</th>\n",
       "      <th>Sulfate</th>\n",
       "      <th>Conductivity</th>\n",
       "      <th>Organic_carbon</th>\n",
       "      <th>Trihalomethanes</th>\n",
       "      <th>Turbidity</th>\n",
       "      <th>Potability</th>\n",
       "    </tr>\n",
       "  </thead>\n",
       "  <tbody>\n",
       "    <tr>\n",
       "      <th>0</th>\n",
       "      <td>NaN</td>\n",
       "      <td>204.890455</td>\n",
       "      <td>20791.318981</td>\n",
       "      <td>7.300212</td>\n",
       "      <td>368.516441</td>\n",
       "      <td>564.308654</td>\n",
       "      <td>10.379783</td>\n",
       "      <td>86.990970</td>\n",
       "      <td>2.963135</td>\n",
       "      <td>0</td>\n",
       "    </tr>\n",
       "    <tr>\n",
       "      <th>1</th>\n",
       "      <td>3.716080</td>\n",
       "      <td>129.422921</td>\n",
       "      <td>18630.057858</td>\n",
       "      <td>6.635246</td>\n",
       "      <td>NaN</td>\n",
       "      <td>592.885359</td>\n",
       "      <td>15.180013</td>\n",
       "      <td>56.329076</td>\n",
       "      <td>4.500656</td>\n",
       "      <td>0</td>\n",
       "    </tr>\n",
       "    <tr>\n",
       "      <th>2</th>\n",
       "      <td>8.099124</td>\n",
       "      <td>224.236259</td>\n",
       "      <td>19909.541732</td>\n",
       "      <td>9.275884</td>\n",
       "      <td>NaN</td>\n",
       "      <td>418.606213</td>\n",
       "      <td>16.868637</td>\n",
       "      <td>66.420093</td>\n",
       "      <td>3.055934</td>\n",
       "      <td>0</td>\n",
       "    </tr>\n",
       "    <tr>\n",
       "      <th>3</th>\n",
       "      <td>8.316766</td>\n",
       "      <td>214.373394</td>\n",
       "      <td>22018.417441</td>\n",
       "      <td>8.059332</td>\n",
       "      <td>356.886136</td>\n",
       "      <td>363.266516</td>\n",
       "      <td>18.436524</td>\n",
       "      <td>100.341674</td>\n",
       "      <td>4.628771</td>\n",
       "      <td>0</td>\n",
       "    </tr>\n",
       "    <tr>\n",
       "      <th>4</th>\n",
       "      <td>9.092223</td>\n",
       "      <td>181.101509</td>\n",
       "      <td>17978.986339</td>\n",
       "      <td>6.546600</td>\n",
       "      <td>310.135738</td>\n",
       "      <td>398.410813</td>\n",
       "      <td>11.558279</td>\n",
       "      <td>31.997993</td>\n",
       "      <td>4.075075</td>\n",
       "      <td>0</td>\n",
       "    </tr>\n",
       "  </tbody>\n",
       "</table>\n",
       "</div>"
      ],
      "text/plain": [
       "         ph    Hardness        Solids  Chloramines     Sulfate  Conductivity  \\\n",
       "0       NaN  204.890455  20791.318981     7.300212  368.516441    564.308654   \n",
       "1  3.716080  129.422921  18630.057858     6.635246         NaN    592.885359   \n",
       "2  8.099124  224.236259  19909.541732     9.275884         NaN    418.606213   \n",
       "3  8.316766  214.373394  22018.417441     8.059332  356.886136    363.266516   \n",
       "4  9.092223  181.101509  17978.986339     6.546600  310.135738    398.410813   \n",
       "\n",
       "   Organic_carbon  Trihalomethanes  Turbidity  Potability  \n",
       "0       10.379783        86.990970   2.963135           0  \n",
       "1       15.180013        56.329076   4.500656           0  \n",
       "2       16.868637        66.420093   3.055934           0  \n",
       "3       18.436524       100.341674   4.628771           0  \n",
       "4       11.558279        31.997993   4.075075           0  "
      ]
     },
     "execution_count": 80,
     "metadata": {},
     "output_type": "execute_result"
    }
   ],
   "source": [
    "#Loading the first five rows of the dataset\n",
    "df.head()"
   ]
  },
  {
   "cell_type": "markdown",
   "id": "cda247af-83ed-46f3-87d0-242c81cddf1e",
   "metadata": {},
   "source": [
    "Understanding the data\n",
    "* Potability = 0, Unsafe Drinking Water\n",
    "* Potability = 1, Safe Drinking Water"
   ]
  },
  {
   "cell_type": "code",
   "execution_count": 81,
   "id": "93677660-d896-400c-9fc1-08af0d96d78e",
   "metadata": {},
   "outputs": [
    {
     "name": "stdout",
     "output_type": "stream",
     "text": [
      "Shape of the DataFrame: (3276, 10)\n"
     ]
    }
   ],
   "source": [
    "#df.shape determine the dimensions of a DataFrame.\n",
    "print(\"Shape of the DataFrame:\",df.shape)"
   ]
  },
  {
   "cell_type": "code",
   "execution_count": 82,
   "id": "0b37ec51-c9af-4df0-b18d-5c5197f81390",
   "metadata": {},
   "outputs": [
    {
     "name": "stdout",
     "output_type": "stream",
     "text": [
      "There are 3276 rows and 10 columns in the given data frame.\n"
     ]
    }
   ],
   "source": [
    "print(\"There are\", df.shape[0], \"rows and\", df.shape[1], \"columns in the given data frame.\")"
   ]
  },
  {
   "cell_type": "code",
   "execution_count": 83,
   "id": "6763d736-eb4c-40a0-8e26-587498d9e3d4",
   "metadata": {},
   "outputs": [
    {
     "data": {
      "text/html": [
       "<div>\n",
       "<style scoped>\n",
       "    .dataframe tbody tr th:only-of-type {\n",
       "        vertical-align: middle;\n",
       "    }\n",
       "\n",
       "    .dataframe tbody tr th {\n",
       "        vertical-align: top;\n",
       "    }\n",
       "\n",
       "    .dataframe thead th {\n",
       "        text-align: right;\n",
       "    }\n",
       "</style>\n",
       "<table border=\"1\" class=\"dataframe\">\n",
       "  <thead>\n",
       "    <tr style=\"text-align: right;\">\n",
       "      <th></th>\n",
       "      <th>ph</th>\n",
       "      <th>Hardness</th>\n",
       "      <th>Solids</th>\n",
       "      <th>Chloramines</th>\n",
       "      <th>Sulfate</th>\n",
       "      <th>Conductivity</th>\n",
       "      <th>Organic_carbon</th>\n",
       "      <th>Trihalomethanes</th>\n",
       "      <th>Turbidity</th>\n",
       "      <th>Potability</th>\n",
       "    </tr>\n",
       "  </thead>\n",
       "  <tbody>\n",
       "    <tr>\n",
       "      <th>count</th>\n",
       "      <td>2785.000000</td>\n",
       "      <td>3276.000000</td>\n",
       "      <td>3276.000000</td>\n",
       "      <td>3276.000000</td>\n",
       "      <td>2495.000000</td>\n",
       "      <td>3276.000000</td>\n",
       "      <td>3276.000000</td>\n",
       "      <td>3114.000000</td>\n",
       "      <td>3276.000000</td>\n",
       "      <td>3276.000000</td>\n",
       "    </tr>\n",
       "    <tr>\n",
       "      <th>mean</th>\n",
       "      <td>7.080795</td>\n",
       "      <td>196.369496</td>\n",
       "      <td>22014.092526</td>\n",
       "      <td>7.122277</td>\n",
       "      <td>333.775777</td>\n",
       "      <td>426.205111</td>\n",
       "      <td>14.284970</td>\n",
       "      <td>66.396293</td>\n",
       "      <td>3.966786</td>\n",
       "      <td>0.390110</td>\n",
       "    </tr>\n",
       "    <tr>\n",
       "      <th>std</th>\n",
       "      <td>1.594320</td>\n",
       "      <td>32.879761</td>\n",
       "      <td>8768.570828</td>\n",
       "      <td>1.583085</td>\n",
       "      <td>41.416840</td>\n",
       "      <td>80.824064</td>\n",
       "      <td>3.308162</td>\n",
       "      <td>16.175008</td>\n",
       "      <td>0.780382</td>\n",
       "      <td>0.487849</td>\n",
       "    </tr>\n",
       "    <tr>\n",
       "      <th>min</th>\n",
       "      <td>0.000000</td>\n",
       "      <td>47.432000</td>\n",
       "      <td>320.942611</td>\n",
       "      <td>0.352000</td>\n",
       "      <td>129.000000</td>\n",
       "      <td>181.483754</td>\n",
       "      <td>2.200000</td>\n",
       "      <td>0.738000</td>\n",
       "      <td>1.450000</td>\n",
       "      <td>0.000000</td>\n",
       "    </tr>\n",
       "    <tr>\n",
       "      <th>25%</th>\n",
       "      <td>6.093092</td>\n",
       "      <td>176.850538</td>\n",
       "      <td>15666.690297</td>\n",
       "      <td>6.127421</td>\n",
       "      <td>307.699498</td>\n",
       "      <td>365.734414</td>\n",
       "      <td>12.065801</td>\n",
       "      <td>55.844536</td>\n",
       "      <td>3.439711</td>\n",
       "      <td>0.000000</td>\n",
       "    </tr>\n",
       "    <tr>\n",
       "      <th>50%</th>\n",
       "      <td>7.036752</td>\n",
       "      <td>196.967627</td>\n",
       "      <td>20927.833607</td>\n",
       "      <td>7.130299</td>\n",
       "      <td>333.073546</td>\n",
       "      <td>421.884968</td>\n",
       "      <td>14.218338</td>\n",
       "      <td>66.622485</td>\n",
       "      <td>3.955028</td>\n",
       "      <td>0.000000</td>\n",
       "    </tr>\n",
       "    <tr>\n",
       "      <th>75%</th>\n",
       "      <td>8.062066</td>\n",
       "      <td>216.667456</td>\n",
       "      <td>27332.762127</td>\n",
       "      <td>8.114887</td>\n",
       "      <td>359.950170</td>\n",
       "      <td>481.792304</td>\n",
       "      <td>16.557652</td>\n",
       "      <td>77.337473</td>\n",
       "      <td>4.500320</td>\n",
       "      <td>1.000000</td>\n",
       "    </tr>\n",
       "    <tr>\n",
       "      <th>max</th>\n",
       "      <td>14.000000</td>\n",
       "      <td>323.124000</td>\n",
       "      <td>61227.196008</td>\n",
       "      <td>13.127000</td>\n",
       "      <td>481.030642</td>\n",
       "      <td>753.342620</td>\n",
       "      <td>28.300000</td>\n",
       "      <td>124.000000</td>\n",
       "      <td>6.739000</td>\n",
       "      <td>1.000000</td>\n",
       "    </tr>\n",
       "  </tbody>\n",
       "</table>\n",
       "</div>"
      ],
      "text/plain": [
       "                ph     Hardness        Solids  Chloramines      Sulfate  \\\n",
       "count  2785.000000  3276.000000   3276.000000  3276.000000  2495.000000   \n",
       "mean      7.080795   196.369496  22014.092526     7.122277   333.775777   \n",
       "std       1.594320    32.879761   8768.570828     1.583085    41.416840   \n",
       "min       0.000000    47.432000    320.942611     0.352000   129.000000   \n",
       "25%       6.093092   176.850538  15666.690297     6.127421   307.699498   \n",
       "50%       7.036752   196.967627  20927.833607     7.130299   333.073546   \n",
       "75%       8.062066   216.667456  27332.762127     8.114887   359.950170   \n",
       "max      14.000000   323.124000  61227.196008    13.127000   481.030642   \n",
       "\n",
       "       Conductivity  Organic_carbon  Trihalomethanes    Turbidity   Potability  \n",
       "count   3276.000000     3276.000000      3114.000000  3276.000000  3276.000000  \n",
       "mean     426.205111       14.284970        66.396293     3.966786     0.390110  \n",
       "std       80.824064        3.308162        16.175008     0.780382     0.487849  \n",
       "min      181.483754        2.200000         0.738000     1.450000     0.000000  \n",
       "25%      365.734414       12.065801        55.844536     3.439711     0.000000  \n",
       "50%      421.884968       14.218338        66.622485     3.955028     0.000000  \n",
       "75%      481.792304       16.557652        77.337473     4.500320     1.000000  \n",
       "max      753.342620       28.300000       124.000000     6.739000     1.000000  "
      ]
     },
     "execution_count": 83,
     "metadata": {},
     "output_type": "execute_result"
    }
   ],
   "source": [
    "#Statistical measure of the dataset\n",
    "df.describe()"
   ]
  },
  {
   "cell_type": "code",
   "execution_count": 84,
   "id": "a798be5e-4fe7-4499-bd41-98374107b76f",
   "metadata": {},
   "outputs": [
    {
     "name": "stdout",
     "output_type": "stream",
     "text": [
      "Duplicate rows: \n",
      "Empty DataFrame\n",
      "Columns: [ph, Hardness, Solids, Chloramines, Sulfate, Conductivity, Organic_carbon, Trihalomethanes, Turbidity, Potability]\n",
      "Index: []\n"
     ]
    }
   ],
   "source": [
    "# Checking for duplicate rows\n",
    "duplicate_rows = df[df.duplicated()]\n",
    "print(\"Duplicate rows: \")\n",
    "print(duplicate_rows)"
   ]
  },
  {
   "cell_type": "markdown",
   "id": "b454a902-3244-409e-ba61-69139c15c203",
   "metadata": {},
   "source": [
    "## Detecting Missing Values"
   ]
  },
  {
   "cell_type": "code",
   "execution_count": 85,
   "id": "fa1dbae7-e63f-41ec-b37d-a679e878f42d",
   "metadata": {},
   "outputs": [
    {
     "name": "stdout",
     "output_type": "stream",
     "text": [
      "<class 'pandas.core.frame.DataFrame'>\n",
      "RangeIndex: 3276 entries, 0 to 3275\n",
      "Data columns (total 10 columns):\n",
      " #   Column           Non-Null Count  Dtype  \n",
      "---  ------           --------------  -----  \n",
      " 0   ph               2785 non-null   float64\n",
      " 1   Hardness         3276 non-null   float64\n",
      " 2   Solids           3276 non-null   float64\n",
      " 3   Chloramines      3276 non-null   float64\n",
      " 4   Sulfate          2495 non-null   float64\n",
      " 5   Conductivity     3276 non-null   float64\n",
      " 6   Organic_carbon   3276 non-null   float64\n",
      " 7   Trihalomethanes  3114 non-null   float64\n",
      " 8   Turbidity        3276 non-null   float64\n",
      " 9   Potability       3276 non-null   int64  \n",
      "dtypes: float64(9), int64(1)\n",
      "memory usage: 256.1 KB\n"
     ]
    }
   ],
   "source": [
    "# understanding the data and its data types\n",
    "df.info()"
   ]
  },
  {
   "cell_type": "markdown",
   "id": "5aaabd10-d882-46dd-ac17-0a99cd7764fc",
   "metadata": {},
   "source": [
    "#### Based on the information presented in the above table, it is apparent that there exist some null or missing values. The following command can be used to determine the count of missing values within each respective column. "
   ]
  },
  {
   "cell_type": "code",
   "execution_count": 86,
   "id": "bb46f412-48a4-4220-a1cd-5a80c6366355",
   "metadata": {},
   "outputs": [
    {
     "data": {
      "text/plain": [
       "ph                 491\n",
       "Hardness             0\n",
       "Solids               0\n",
       "Chloramines          0\n",
       "Sulfate            781\n",
       "Conductivity         0\n",
       "Organic_carbon       0\n",
       "Trihalomethanes    162\n",
       "Turbidity            0\n",
       "Potability           0\n",
       "dtype: int64"
      ]
     },
     "execution_count": 86,
     "metadata": {},
     "output_type": "execute_result"
    }
   ],
   "source": [
    " df.isna().sum()"
   ]
  },
  {
   "cell_type": "code",
   "execution_count": 87,
   "id": "d2a42abd-194a-41db-bd12-de141163f141",
   "metadata": {},
   "outputs": [
    {
     "name": "stdout",
     "output_type": "stream",
     "text": [
      "Percentage of Missing Data: \n",
      "ph                 14.987790\n",
      "Hardness            0.000000\n",
      "Solids              0.000000\n",
      "Chloramines         0.000000\n",
      "Sulfate            23.840049\n",
      "Conductivity        0.000000\n",
      "Organic_carbon      0.000000\n",
      "Trihalomethanes     4.945055\n",
      "Turbidity           0.000000\n",
      "Potability          0.000000\n",
      "dtype: float64\n"
     ]
    }
   ],
   "source": [
    "# Calculating the percentage of missing values in each column\n",
    "percentage_missing = df.isna().sum() / len(df) * 100\n",
    "print(\"Percentage of Missing Data: \")\n",
    "print(percentage_missing)"
   ]
  },
  {
   "cell_type": "code",
   "execution_count": 88,
   "id": "3dafac1e-8831-45b8-9e8b-976a1b2ba328",
   "metadata": {},
   "outputs": [
    {
     "data": {
      "text/plain": [
       "<Axes: >"
      ]
     },
     "execution_count": 88,
     "metadata": {},
     "output_type": "execute_result"
    },
    {
     "data": {
      "image/png": "[encoded data removed]",
      "text/plain": [
       "<Figure size 640x480 with 2 Axes>"
      ]
     },
     "metadata": {},
     "output_type": "display_data"
    }
   ],
   "source": [
    "#Creating a heatmap to visualize the distribution of missing values across columns in the transposed df\n",
    "sns.heatmap(df.isna().transpose())"
   ]
  },
  {
   "cell_type": "markdown",
   "id": "5f6b99db-1332-46bc-9c8e-7733e8a91303",
   "metadata": {},
   "source": [
    "## Handling Missing Values"
   ]
  },
  {
   "cell_type": "markdown",
   "id": "67d65ac3-a6d2-4afd-9638-c76da0fd35eb",
   "metadata": {},
   "source": [
    "#### On observing the heatmap presented earlier reveals that three columns conatin misssing values i.e., ph, Sulfate, Trihalomethanes. Detecting missing values in certain columns iniiates an examination for outliers. Let's check for outliers in these columns as outliers can significantly impact data analysis."
   ]
  },
  {
   "cell_type": "code",
   "execution_count": 89,
   "id": "d67eee3a-74bb-4fea-bc95-7fdf7cf295ae",
   "metadata": {},
   "outputs": [
    {
     "data": {
      "image/png": "[encoded data removed]",
      "text/plain": [
       "<Figure size 500x200 with 1 Axes>"
      ]
     },
     "metadata": {},
     "output_type": "display_data"
    }
   ],
   "source": [
    "#Checking for outliers in ph column\n",
    "plt.figure(figsize=(5,2))\n",
    "sns.boxplot(x = \"ph\", data = df, color = \"skyblue\", flierprops = dict(markersize = 6, markerfacecolor = \"black\"))\n",
    "plt.xlabel(\"pH Values\")\n",
    "plt.title(\"Distribution of pH Values\")\n",
    "plt.show()"
   ]
  },
  {
   "cell_type": "code",
   "execution_count": 90,
   "id": "386d33f1-6906-4908-976e-5165b9b07f24",
   "metadata": {},
   "outputs": [
    {
     "data": {
      "image/png": "[encoded data removed]",
      "text/plain": [
       "<Figure size 500x200 with 1 Axes>"
      ]
     },
     "metadata": {},
     "output_type": "display_data"
    }
   ],
   "source": [
    "#Checking for outliers in sulfate column\n",
    "plt.figure(figsize=(5,2))\n",
    "sns.boxplot(x = \"Sulfate\", data = df, color = \"skyblue\", flierprops = dict(markersize = 6, markerfacecolor = \"black\"))\n",
    "plt.xlabel(\"Sulfate Values\")\n",
    "plt.title(\"Distribution of Sulfate Values\")\n",
    "plt.show()"
   ]
  },
  {
   "cell_type": "code",
   "execution_count": 91,
   "id": "006d81df-15f6-4db7-a637-54cdd30beb16",
   "metadata": {},
   "outputs": [
    {
     "data": {
      "image/png": "[encoded data removed]",
      "text/plain": [
       "<Figure size 500x200 with 1 Axes>"
      ]
     },
     "metadata": {},
     "output_type": "display_data"
    }
   ],
   "source": [
    "#Checking for outliers in Trihalomethanes column\n",
    "plt.figure(figsize=(5,2))\n",
    "sns.boxplot(x = \"Trihalomethanes\", data = df, color = \"skyblue\", flierprops = dict(markersize = 6, markerfacecolor = \"black\"))\n",
    "plt.xlabel(\"Trihalomethanes Values\")\n",
    "plt.title(\"Distribution of Trihalomethanes Values\")\n",
    "plt.show()"
   ]
  },
  {
   "cell_type": "code",
   "execution_count": 92,
   "id": "85b12b16-8218-4d33-94f3-4c386ddf5c65",
   "metadata": {},
   "outputs": [
    {
     "name": "stdout",
     "output_type": "stream",
     "text": [
      "Skewness of each column:\n",
      "ph                 0.025630\n",
      "Hardness          -0.039342\n",
      "Solids             0.621634\n",
      "Chloramines       -0.012098\n",
      "Sulfate           -0.035947\n",
      "Conductivity       0.264490\n",
      "Organic_carbon     0.025533\n",
      "Trihalomethanes   -0.083031\n",
      "Turbidity         -0.007817\n",
      "Potability         0.450784\n",
      "dtype: float64\n"
     ]
    }
   ],
   "source": [
    "#Calculating the skewness for ech column in the df\n",
    "skew_values = df.skew()\n",
    "print(\"Skewness of each column:\")\n",
    "print(skew_values)"
   ]
  },
  {
   "cell_type": "markdown",
   "id": "037d7603-81cd-44be-8dc0-f21f40972f11",
   "metadata": {},
   "source": [
    "#### As these three columns — ph, Sulfate, Trihalomethanes — contain numerical data, we will address the missing values using an imputation method."
   ]
  },
  {
   "cell_type": "code",
   "execution_count": 93,
   "id": "bc9bac6c-988b-471c-8d9a-d0c0be55135d",
   "metadata": {},
   "outputs": [],
   "source": [
    "# Calculating median values for \"ph\", \"Sulfate\" and \"Trihalomethanes\"\n",
    "median_value1 = df[\"ph\"].median()\n",
    "median_value2 = df[\"Sulfate\"].median()\n",
    "median_value3 = df[\"Trihalomethanes\"].median()"
   ]
  },
  {
   "cell_type": "code",
   "execution_count": 94,
   "id": "4d96f63f-1e27-45ba-ba06-55373bb63bea",
   "metadata": {},
   "outputs": [],
   "source": [
    "# Filling missing values in \"ph\", \"Sulfate\" and \"Trihalomethanes\" columns with their respective medians\n",
    "df[\"ph\"].fillna(median_value1, inplace = True)\n",
    "df[\"Sulfate\"].fillna(median_value2, inplace = True)\n",
    "df[\"Trihalomethanes\"].fillna(median_value3, inplace = True)"
   ]
  },
  {
   "cell_type": "code",
   "execution_count": 95,
   "id": "304e651c-42f0-4379-ae5c-a6635b356a99",
   "metadata": {},
   "outputs": [
    {
     "data": {
      "text/plain": [
       "ph                 0\n",
       "Hardness           0\n",
       "Solids             0\n",
       "Chloramines        0\n",
       "Sulfate            0\n",
       "Conductivity       0\n",
       "Organic_carbon     0\n",
       "Trihalomethanes    0\n",
       "Turbidity          0\n",
       "Potability         0\n",
       "dtype: int64"
      ]
     },
     "execution_count": 95,
     "metadata": {},
     "output_type": "execute_result"
    }
   ],
   "source": [
    "# Checing the mising values again\n",
    "df.isna().sum()"
   ]
  },
  {
   "cell_type": "markdown",
   "id": "ee3e664e-fb2a-446d-aaa3-35e4aa3ebf2a",
   "metadata": {},
   "source": [
    "## Target Variable"
   ]
  },
  {
   "cell_type": "code",
   "execution_count": 96,
   "id": "506cdcd8-fa27-48a1-91f7-5609da270fa8",
   "metadata": {},
   "outputs": [
    {
     "name": "stdout",
     "output_type": "stream",
     "text": [
      "Identified Target Variable: Potability\n"
     ]
    }
   ],
   "source": [
    "# Identifying the potential target variable\n",
    "potential_target = [col for col in columns_list if col not in ['ph', 'Hardness', 'Solids', 'Chloramines', 'Sulfate', 'Conductivity', 'Organic_carbon', 'Trihalomethanes', 'Turbidity']]\n",
    "target_variable = potential_target[0]  \n",
    "\n",
    "print(\"Identified Target Variable:\", target_variable)"
   ]
  },
  {
   "cell_type": "code",
   "execution_count": 97,
   "id": "cdea076b-b823-4f9d-8f25-e8e735fa31a9",
   "metadata": {},
   "outputs": [
    {
     "data": {
      "text/plain": [
       "Potability\n",
       "0    1998\n",
       "1    1278\n",
       "Name: count, dtype: int64"
      ]
     },
     "execution_count": 97,
     "metadata": {},
     "output_type": "execute_result"
    }
   ],
   "source": [
    "#Checking the distrubution of target variable\n",
    "df[\"Potability\"].value_counts()"
   ]
  },
  {
   "cell_type": "markdown",
   "id": "5652283b-a593-404a-ac83-1d95bcb2f33a",
   "metadata": {},
   "source": [
    "#### Within the dataset comprising 3276 entries, 1998 entries indicate unsafe water potability, while 1278 entries denote safe water potability.\n",
    "* 0 = Not Potable\n",
    "* 1 = Potable"
   ]
  },
  {
   "cell_type": "code",
   "execution_count": 98,
   "id": "557efdba-c276-47db-9f6a-41680b3ce97c",
   "metadata": {},
   "outputs": [
    {
     "data": {
      "image/png": "[encoded data removed]",
      "text/plain": [
       "<Figure size 700x300 with 1 Axes>"
      ]
     },
     "metadata": {},
     "output_type": "display_data"
    }
   ],
   "source": [
    "# Creatng count plot to visualize the distribution of \"Potability\" in the df\n",
    "plt.figure(figsize = (7,3))\n",
    "sns.countplot(x = \"Potability\", data = df)\n",
    "plt.xlabel(\"Potability\")\n",
    "plt.ylabel(\"Count\")\n",
    "plt.title(\"Potability Distribution\")\n",
    "plt.show()"
   ]
  },
  {
   "cell_type": "code",
   "execution_count": 99,
   "id": "fb5e95ee-29fd-47e8-aa9e-0315051641f9",
   "metadata": {},
   "outputs": [
    {
     "data": {
      "text/html": [
       "<div>\n",
       "<style scoped>\n",
       "    .dataframe tbody tr th:only-of-type {\n",
       "        vertical-align: middle;\n",
       "    }\n",
       "\n",
       "    .dataframe tbody tr th {\n",
       "        vertical-align: top;\n",
       "    }\n",
       "\n",
       "    .dataframe thead th {\n",
       "        text-align: right;\n",
       "    }\n",
       "</style>\n",
       "<table border=\"1\" class=\"dataframe\">\n",
       "  <thead>\n",
       "    <tr style=\"text-align: right;\">\n",
       "      <th></th>\n",
       "      <th>ph</th>\n",
       "      <th>Hardness</th>\n",
       "      <th>Solids</th>\n",
       "      <th>Chloramines</th>\n",
       "      <th>Sulfate</th>\n",
       "      <th>Conductivity</th>\n",
       "      <th>Organic_carbon</th>\n",
       "      <th>Trihalomethanes</th>\n",
       "      <th>Turbidity</th>\n",
       "    </tr>\n",
       "    <tr>\n",
       "      <th>Potability</th>\n",
       "      <th></th>\n",
       "      <th></th>\n",
       "      <th></th>\n",
       "      <th></th>\n",
       "      <th></th>\n",
       "      <th></th>\n",
       "      <th></th>\n",
       "      <th></th>\n",
       "      <th></th>\n",
       "    </tr>\n",
       "  </thead>\n",
       "  <tbody>\n",
       "    <tr>\n",
       "      <th>0</th>\n",
       "      <td>7.077736</td>\n",
       "      <td>196.733292</td>\n",
       "      <td>21777.490788</td>\n",
       "      <td>7.092175</td>\n",
       "      <td>334.200184</td>\n",
       "      <td>426.730454</td>\n",
       "      <td>14.364335</td>\n",
       "      <td>66.320635</td>\n",
       "      <td>3.965800</td>\n",
       "    </tr>\n",
       "    <tr>\n",
       "      <th>1</th>\n",
       "      <td>7.068655</td>\n",
       "      <td>195.800744</td>\n",
       "      <td>22383.991018</td>\n",
       "      <td>7.169338</td>\n",
       "      <td>332.683125</td>\n",
       "      <td>425.383800</td>\n",
       "      <td>14.160893</td>\n",
       "      <td>66.543247</td>\n",
       "      <td>3.968328</td>\n",
       "    </tr>\n",
       "  </tbody>\n",
       "</table>\n",
       "</div>"
      ],
      "text/plain": [
       "                  ph    Hardness        Solids  Chloramines     Sulfate  \\\n",
       "Potability                                                                \n",
       "0           7.077736  196.733292  21777.490788     7.092175  334.200184   \n",
       "1           7.068655  195.800744  22383.991018     7.169338  332.683125   \n",
       "\n",
       "            Conductivity  Organic_carbon  Trihalomethanes  Turbidity  \n",
       "Potability                                                            \n",
       "0             426.730454       14.364335        66.320635   3.965800  \n",
       "1             425.383800       14.160893        66.543247   3.968328  "
      ]
     },
     "execution_count": 99,
     "metadata": {},
     "output_type": "execute_result"
    }
   ],
   "source": [
    "# Grouping the dataset by \"Potability\" to calculate the mean values of other columns for each class\n",
    "df.groupby(\"Potability\").mean()"
   ]
  },
  {
   "cell_type": "code",
   "execution_count": 100,
   "id": "c1cd9e43-fe7a-42d2-a321-4733fe9c7584",
   "metadata": {},
   "outputs": [
    {
     "data": {
      "image/png": "[encoded data removed]",
      "text/plain": [
       "<Figure size 640x480 with 1 Axes>"
      ]
     },
     "metadata": {},
     "output_type": "display_data"
    }
   ],
   "source": [
    "# Creating a scatter plot to explore the relationship between \"ph\" and \"Hardness\"\n",
    "sns.scatterplot(x = \"ph\", y = \"Hardness\", data = df)\n",
    "plt.xlabel(\"pH\")\n",
    "plt.ylabel(\"Hardness\")\n",
    "plt.title(\"Relation between pH and Hardness\")\n",
    "plt.show()"
   ]
  },
  {
   "cell_type": "markdown",
   "id": "4d9a7179-497f-4bea-86dd-91e436d648ef",
   "metadata": {},
   "source": [
    "## Correlation\n",
    "Understanding the correlation coefficient: df.corr() function is a powerful tool to quickly assess the relationships between variables and determine which pairs of columns have stronger and weaker connections in terms of linear association.\n",
    "* The correlation coefficient ranges between -1 to 1, where, 1 indicates a perfect positive correlation, -1 indicates a perfect negative correlation and 0 indicates no linear reationship.\n",
    "* It returns a table showing the correlation values between all pairs of numerical columns in the df. The diagonal (top left to bottom right) contains self-correlation, which is always 1. This means a column is perfectly corelated with itself.\n",
    "* Positive correlations imply that as one variable increases, the other tends to increase. Negative correlations indicate that as one variable increases, the other tends to decrease. "
   ]
  },
  {
   "cell_type": "code",
   "execution_count": 101,
   "id": "7ec6d1d0-e6f3-4b55-a5d2-d77759adbedf",
   "metadata": {},
   "outputs": [
    {
     "data": {
      "text/html": [
       "<div>\n",
       "<style scoped>\n",
       "    .dataframe tbody tr th:only-of-type {\n",
       "        vertical-align: middle;\n",
       "    }\n",
       "\n",
       "    .dataframe tbody tr th {\n",
       "        vertical-align: top;\n",
       "    }\n",
       "\n",
       "    .dataframe thead th {\n",
       "        text-align: right;\n",
       "    }\n",
       "</style>\n",
       "<table border=\"1\" class=\"dataframe\">\n",
       "  <thead>\n",
       "    <tr style=\"text-align: right;\">\n",
       "      <th></th>\n",
       "      <th>ph</th>\n",
       "      <th>Hardness</th>\n",
       "      <th>Solids</th>\n",
       "      <th>Chloramines</th>\n",
       "      <th>Sulfate</th>\n",
       "      <th>Conductivity</th>\n",
       "      <th>Organic_carbon</th>\n",
       "      <th>Trihalomethanes</th>\n",
       "      <th>Turbidity</th>\n",
       "      <th>Potability</th>\n",
       "    </tr>\n",
       "  </thead>\n",
       "  <tbody>\n",
       "    <tr>\n",
       "      <th>ph</th>\n",
       "      <td>1.000000</td>\n",
       "      <td>0.075760</td>\n",
       "      <td>-0.082004</td>\n",
       "      <td>-0.031741</td>\n",
       "      <td>0.014178</td>\n",
       "      <td>0.017466</td>\n",
       "      <td>0.040240</td>\n",
       "      <td>0.003145</td>\n",
       "      <td>-0.036107</td>\n",
       "      <td>-0.003014</td>\n",
       "    </tr>\n",
       "    <tr>\n",
       "      <th>Hardness</th>\n",
       "      <td>0.075760</td>\n",
       "      <td>1.000000</td>\n",
       "      <td>-0.046899</td>\n",
       "      <td>-0.030054</td>\n",
       "      <td>-0.092833</td>\n",
       "      <td>-0.023915</td>\n",
       "      <td>0.003610</td>\n",
       "      <td>-0.012707</td>\n",
       "      <td>-0.014449</td>\n",
       "      <td>-0.013837</td>\n",
       "    </tr>\n",
       "    <tr>\n",
       "      <th>Solids</th>\n",
       "      <td>-0.082004</td>\n",
       "      <td>-0.046899</td>\n",
       "      <td>1.000000</td>\n",
       "      <td>-0.070148</td>\n",
       "      <td>-0.149747</td>\n",
       "      <td>0.013831</td>\n",
       "      <td>0.010242</td>\n",
       "      <td>-0.008799</td>\n",
       "      <td>0.019546</td>\n",
       "      <td>0.033743</td>\n",
       "    </tr>\n",
       "    <tr>\n",
       "      <th>Chloramines</th>\n",
       "      <td>-0.031741</td>\n",
       "      <td>-0.030054</td>\n",
       "      <td>-0.070148</td>\n",
       "      <td>1.000000</td>\n",
       "      <td>0.023762</td>\n",
       "      <td>-0.020486</td>\n",
       "      <td>-0.012653</td>\n",
       "      <td>0.016614</td>\n",
       "      <td>0.002363</td>\n",
       "      <td>0.023779</td>\n",
       "    </tr>\n",
       "    <tr>\n",
       "      <th>Sulfate</th>\n",
       "      <td>0.014178</td>\n",
       "      <td>-0.092833</td>\n",
       "      <td>-0.149747</td>\n",
       "      <td>0.023762</td>\n",
       "      <td>1.000000</td>\n",
       "      <td>-0.014182</td>\n",
       "      <td>0.027102</td>\n",
       "      <td>-0.025657</td>\n",
       "      <td>-0.009767</td>\n",
       "      <td>-0.020476</td>\n",
       "    </tr>\n",
       "    <tr>\n",
       "      <th>Conductivity</th>\n",
       "      <td>0.017466</td>\n",
       "      <td>-0.023915</td>\n",
       "      <td>0.013831</td>\n",
       "      <td>-0.020486</td>\n",
       "      <td>-0.014182</td>\n",
       "      <td>1.000000</td>\n",
       "      <td>0.020966</td>\n",
       "      <td>0.001184</td>\n",
       "      <td>0.005798</td>\n",
       "      <td>-0.008128</td>\n",
       "    </tr>\n",
       "    <tr>\n",
       "      <th>Organic_carbon</th>\n",
       "      <td>0.040240</td>\n",
       "      <td>0.003610</td>\n",
       "      <td>0.010242</td>\n",
       "      <td>-0.012653</td>\n",
       "      <td>0.027102</td>\n",
       "      <td>0.020966</td>\n",
       "      <td>1.000000</td>\n",
       "      <td>-0.012958</td>\n",
       "      <td>-0.027308</td>\n",
       "      <td>-0.030001</td>\n",
       "    </tr>\n",
       "    <tr>\n",
       "      <th>Trihalomethanes</th>\n",
       "      <td>0.003145</td>\n",
       "      <td>-0.012707</td>\n",
       "      <td>-0.008799</td>\n",
       "      <td>0.016614</td>\n",
       "      <td>-0.025657</td>\n",
       "      <td>0.001184</td>\n",
       "      <td>-0.012958</td>\n",
       "      <td>1.000000</td>\n",
       "      <td>-0.021487</td>\n",
       "      <td>0.006887</td>\n",
       "    </tr>\n",
       "    <tr>\n",
       "      <th>Turbidity</th>\n",
       "      <td>-0.036107</td>\n",
       "      <td>-0.014449</td>\n",
       "      <td>0.019546</td>\n",
       "      <td>0.002363</td>\n",
       "      <td>-0.009767</td>\n",
       "      <td>0.005798</td>\n",
       "      <td>-0.027308</td>\n",
       "      <td>-0.021487</td>\n",
       "      <td>1.000000</td>\n",
       "      <td>0.001581</td>\n",
       "    </tr>\n",
       "    <tr>\n",
       "      <th>Potability</th>\n",
       "      <td>-0.003014</td>\n",
       "      <td>-0.013837</td>\n",
       "      <td>0.033743</td>\n",
       "      <td>0.023779</td>\n",
       "      <td>-0.020476</td>\n",
       "      <td>-0.008128</td>\n",
       "      <td>-0.030001</td>\n",
       "      <td>0.006887</td>\n",
       "      <td>0.001581</td>\n",
       "      <td>1.000000</td>\n",
       "    </tr>\n",
       "  </tbody>\n",
       "</table>\n",
       "</div>"
      ],
      "text/plain": [
       "                       ph  Hardness    Solids  Chloramines   Sulfate  \\\n",
       "ph               1.000000  0.075760 -0.082004    -0.031741  0.014178   \n",
       "Hardness         0.075760  1.000000 -0.046899    -0.030054 -0.092833   \n",
       "Solids          -0.082004 -0.046899  1.000000    -0.070148 -0.149747   \n",
       "Chloramines     -0.031741 -0.030054 -0.070148     1.000000  0.023762   \n",
       "Sulfate          0.014178 -0.092833 -0.149747     0.023762  1.000000   \n",
       "Conductivity     0.017466 -0.023915  0.013831    -0.020486 -0.014182   \n",
       "Organic_carbon   0.040240  0.003610  0.010242    -0.012653  0.027102   \n",
       "Trihalomethanes  0.003145 -0.012707 -0.008799     0.016614 -0.025657   \n",
       "Turbidity       -0.036107 -0.014449  0.019546     0.002363 -0.009767   \n",
       "Potability      -0.003014 -0.013837  0.033743     0.023779 -0.020476   \n",
       "\n",
       "                 Conductivity  Organic_carbon  Trihalomethanes  Turbidity  \\\n",
       "ph                   0.017466        0.040240         0.003145  -0.036107   \n",
       "Hardness            -0.023915        0.003610        -0.012707  -0.014449   \n",
       "Solids               0.013831        0.010242        -0.008799   0.019546   \n",
       "Chloramines         -0.020486       -0.012653         0.016614   0.002363   \n",
       "Sulfate             -0.014182        0.027102        -0.025657  -0.009767   \n",
       "Conductivity         1.000000        0.020966         0.001184   0.005798   \n",
       "Organic_carbon       0.020966        1.000000        -0.012958  -0.027308   \n",
       "Trihalomethanes      0.001184       -0.012958         1.000000  -0.021487   \n",
       "Turbidity            0.005798       -0.027308        -0.021487   1.000000   \n",
       "Potability          -0.008128       -0.030001         0.006887   0.001581   \n",
       "\n",
       "                 Potability  \n",
       "ph                -0.003014  \n",
       "Hardness          -0.013837  \n",
       "Solids             0.033743  \n",
       "Chloramines        0.023779  \n",
       "Sulfate           -0.020476  \n",
       "Conductivity      -0.008128  \n",
       "Organic_carbon    -0.030001  \n",
       "Trihalomethanes    0.006887  \n",
       "Turbidity          0.001581  \n",
       "Potability         1.000000  "
      ]
     },
     "execution_count": 101,
     "metadata": {},
     "output_type": "execute_result"
    }
   ],
   "source": [
    "# Calculating the pairwise correlation coefficients between numerical columns in the df\n",
    "df.corr()"
   ]
  },
  {
   "cell_type": "code",
   "execution_count": 102,
   "id": "b4861ea0-632f-401e-8236-d2b916861172",
   "metadata": {},
   "outputs": [
    {
     "data": {
      "image/png": "[encoded data removed]",
      "text/plain": [
       "<Figure size 800x500 with 2 Axes>"
      ]
     },
     "metadata": {},
     "output_type": "display_data"
    }
   ],
   "source": [
    "# Creating a heatmap to visualize the correlation matrix with annotations\n",
    "plt.figure(figsize = (8,5))\n",
    "sns.heatmap(df.corr(), annot = True)\n",
    "plt.title(\"Correlation Matrix Heatmap\")\n",
    "plt.show()"
   ]
  },
  {
   "cell_type": "code",
   "execution_count": 103,
   "id": "de3d1633-842e-4468-ac0c-b8a291668d19",
   "metadata": {},
   "outputs": [
    {
     "data": {
      "image/png": "[encoded data removed]",
      "text/plain": [
       "<Figure size 1000x1000 with 12 Axes>"
      ]
     },
     "metadata": {},
     "output_type": "display_data"
    }
   ],
   "source": [
    "#Creating Histogram of each and every column\n",
    "df.hist(figsize=(10,10))\n",
    "plt.show()"
   ]
  },
  {
   "cell_type": "markdown",
   "id": "93499cd6-0110-4bff-bc84-fb9c734c3251",
   "metadata": {},
   "source": [
    "## Splitting the Feature and Target Variable\n",
    "* Target Variable (Dependent Variable): The target variable is the variable that a model is intended to predict or estimate based on the information provided by the feature variables. In regression, it's the variable to be predicted.\n",
    "* Feature Variable (Independent Variable): Feature variables, also known as independent variables or predictors, are the set of variables used to predict or explain the variation in the target variable. These variables provide the information or characteristics that the model uses to make predictions."
   ]
  },
  {
   "cell_type": "code",
   "execution_count": 104,
   "id": "553b7ce9-3e23-45ec-8428-8f9981b27196",
   "metadata": {},
   "outputs": [],
   "source": [
    "X = df.iloc[:, :9] #independent variable\n",
    "y = df.Potability #dependent variable"
   ]
  },
  {
   "cell_type": "code",
   "execution_count": 105,
   "id": "9f2d574f-16d7-4805-bd7a-779e5611982d",
   "metadata": {},
   "outputs": [
    {
     "name": "stdout",
     "output_type": "stream",
     "text": [
      "Dependent / Target Variables: \n",
      "0       0\n",
      "1       0\n",
      "2       0\n",
      "3       0\n",
      "4       0\n",
      "       ..\n",
      "3271    1\n",
      "3272    1\n",
      "3273    1\n",
      "3274    1\n",
      "3275    1\n",
      "Name: Potability, Length: 3276, dtype: int64\n"
     ]
    }
   ],
   "source": [
    "print(\"Dependent / Target Variables: \")\n",
    "print(y)"
   ]
  },
  {
   "cell_type": "code",
   "execution_count": 106,
   "id": "be0ab519-ae8f-4db5-a0ad-4a7d42b10e36",
   "metadata": {},
   "outputs": [
    {
     "name": "stdout",
     "output_type": "stream",
     "text": [
      "Independent Variables: \n",
      "            ph    Hardness        Solids  Chloramines     Sulfate  \\\n",
      "0     7.036752  204.890455  20791.318981     7.300212  368.516441   \n",
      "1     3.716080  129.422921  18630.057858     6.635246  333.073546   \n",
      "2     8.099124  224.236259  19909.541732     9.275884  333.073546   \n",
      "3     8.316766  214.373394  22018.417441     8.059332  356.886136   \n",
      "4     9.092223  181.101509  17978.986339     6.546600  310.135738   \n",
      "...        ...         ...           ...          ...         ...   \n",
      "3271  4.668102  193.681735  47580.991603     7.166639  359.948574   \n",
      "3272  7.808856  193.553212  17329.802160     8.061362  333.073546   \n",
      "3273  9.419510  175.762646  33155.578218     7.350233  333.073546   \n",
      "3274  5.126763  230.603758  11983.869376     6.303357  333.073546   \n",
      "3275  7.874671  195.102299  17404.177061     7.509306  333.073546   \n",
      "\n",
      "      Conductivity  Organic_carbon  Trihalomethanes  Turbidity  \n",
      "0       564.308654       10.379783        86.990970   2.963135  \n",
      "1       592.885359       15.180013        56.329076   4.500656  \n",
      "2       418.606213       16.868637        66.420093   3.055934  \n",
      "3       363.266516       18.436524       100.341674   4.628771  \n",
      "4       398.410813       11.558279        31.997993   4.075075  \n",
      "...            ...             ...              ...        ...  \n",
      "3271    526.424171       13.894419        66.687695   4.435821  \n",
      "3272    392.449580       19.903225        66.622485   2.798243  \n",
      "3273    432.044783       11.039070        69.845400   3.298875  \n",
      "3274    402.883113       11.168946        77.488213   4.708658  \n",
      "3275    327.459760       16.140368        78.698446   2.309149  \n",
      "\n",
      "[3276 rows x 9 columns]\n"
     ]
    }
   ],
   "source": [
    "print(\"Independent Variables: \")\n",
    "print(X)"
   ]
  },
  {
   "cell_type": "markdown",
   "id": "aab486cf-b1df-40e2-bc62-efe0727d4773",
   "metadata": {},
   "source": [
    "The \"Potability\" variable is considered dependent becuase it's the target or outcome variable that is the focus of the analysis or modeling, while the other columns are considered independent variables used to predict or explain the variation or behavior in the dependent variable."
   ]
  },
  {
   "cell_type": "markdown",
   "id": "14e6526d-562e-4806-a9b8-3693fbdf8e41",
   "metadata": {},
   "source": [
    "## Feature Scaling"
   ]
  },
  {
   "cell_type": "code",
   "execution_count": 107,
   "id": "f79223b7-026b-40cb-b22c-6d667892b09f",
   "metadata": {},
   "outputs": [
    {
     "name": "stdout",
     "output_type": "stream",
     "text": [
      "[[-2.54735465e-02  2.59194711e-01 -1.39470871e-01 ... -1.18065057e+00\n",
      "   1.30543373e+00 -1.28629758e+00]\n",
      " [-2.28471739e+00 -2.03641367e+00 -3.85986650e-01 ...  2.70597240e-01\n",
      "  -6.39186284e-01  6.84217891e-01]\n",
      " [ 6.97319183e-01  8.47664833e-01 -2.40047337e-01 ...  7.81116857e-01\n",
      "   8.00012586e-04 -1.16736546e+00]\n",
      " ...\n",
      " [ 1.59565368e+00 -6.26829230e-01  1.27080989e+00 ... -9.81329234e-01\n",
      "   2.18037800e-01 -8.56006782e-01]\n",
      " [-1.32494885e+00  1.04135450e+00 -1.14405809e+00 ... -9.42063817e-01\n",
      "   7.02755628e-01  9.50797383e-01]\n",
      " [ 5.44611034e-01 -3.85462310e-02 -5.25811937e-01 ...  5.60940070e-01\n",
      "   7.79510303e-01 -2.12445866e+00]]\n"
     ]
    }
   ],
   "source": [
    "from sklearn.preprocessing import StandardScaler\n",
    "\n",
    "scaler = StandardScaler()\n",
    "X = scaler.fit_transform(X)\n",
    "print(X)"
   ]
  },
  {
   "cell_type": "markdown",
   "id": "1a4b9a52-251d-468f-97f3-5d6d6737412f",
   "metadata": {},
   "source": [
    "## Splitting the dataset into Trainning and Testing sets"
   ]
  },
  {
   "cell_type": "code",
   "execution_count": 108,
   "id": "3cc26537-7df1-4ca6-a373-4b6da751eca3",
   "metadata": {},
   "outputs": [],
   "source": [
    "from sklearn.model_selection import train_test_split\n",
    "X_train, X_test, y_train, y_test = train_test_split(X, y, test_size = 0.6, stratify = y, random_state = 40)"
   ]
  },
  {
   "cell_type": "code",
   "execution_count": 109,
   "id": "9f1ccf1a-5b11-446a-987b-ecc5cb144974",
   "metadata": {},
   "outputs": [
    {
     "name": "stdout",
     "output_type": "stream",
     "text": [
      "Shape of the Feature Variable array 'X': (3276, 9)\n",
      "There are 3276 rows and 9 columns.\n"
     ]
    }
   ],
   "source": [
    "# Displaying the number of rows and columns of the feature variable array \"X\"\n",
    "print(\"Shape of the Feature Variable array 'X':\" ,X.shape)\n",
    "print(\"There are\" ,X.shape[0], \"rows and\" ,X.shape[1], \"columns.\" )"
   ]
  },
  {
   "cell_type": "code",
   "execution_count": 110,
   "id": "22d38ca1-2d2b-467e-93ca-940f1acbde84",
   "metadata": {},
   "outputs": [
    {
     "data": {
      "text/plain": [
       "(1310, 9)"
      ]
     },
     "execution_count": 110,
     "metadata": {},
     "output_type": "execute_result"
    }
   ],
   "source": [
    "# Displaying the shape of the training set features (X_train)\n",
    "X_train.shape"
   ]
  },
  {
   "cell_type": "code",
   "execution_count": 111,
   "id": "d5f0ba11-4a5f-4750-9557-d5e4a8bb1c65",
   "metadata": {},
   "outputs": [
    {
     "data": {
      "text/plain": [
       "(1966, 9)"
      ]
     },
     "execution_count": 111,
     "metadata": {},
     "output_type": "execute_result"
    }
   ],
   "source": [
    "# Displaying the shape of the testing set features (X_test)\n",
    "X_test.shape"
   ]
  },
  {
   "cell_type": "markdown",
   "id": "c96193db-a0b4-4359-9b7c-fd254386b3d1",
   "metadata": {},
   "source": [
    "## Model 1: Logistic Regression"
   ]
  },
  {
   "cell_type": "code",
   "execution_count": 112,
   "id": "a0e17609-7464-4b48-9ee2-9562a34b8b9c",
   "metadata": {},
   "outputs": [],
   "source": [
    "from sklearn.linear_model import LogisticRegression\n",
    "\n",
    "# Creating a logistic Regression model\n",
    "model_reg= LogisticRegression()\n",
    "\n",
    "# Fitting the model using the training data\n",
    "model_reg.fit(X_train, y_train)\n",
    "\n",
    "# Predicting the target variable for the test set using the trained model\n",
    "y_pred_reg = model_reg.predict(X_test)"
   ]
  },
  {
   "cell_type": "markdown",
   "id": "2ba75eaa-09e7-492e-801f-39dfa6550d35",
   "metadata": {},
   "source": [
    "## Model Evaluation"
   ]
  },
  {
   "cell_type": "code",
   "execution_count": 113,
   "id": "ed93715e-1a77-48a1-8055-3c76a5d50abf",
   "metadata": {},
   "outputs": [],
   "source": [
    "from sklearn.metrics import (accuracy_score,\n",
    "                             f1_score, \n",
    "                             precision_score, \n",
    "                             recall_score) "
   ]
  },
  {
   "cell_type": "code",
   "execution_count": 114,
   "id": "97b48f1a-29c9-4afa-bb21-c5515af940be",
   "metadata": {},
   "outputs": [
    {
     "name": "stdout",
     "output_type": "stream",
     "text": [
      "Accuracy Score:0.6078331637843337\n"
     ]
    }
   ],
   "source": [
    "# Calculating and displaying the accuracy score using the true and predicted target variables\n",
    "Accuracy = accuracy_score(y_test, y_pred_reg)\n",
    "print(f\"Accuracy Score:{Accuracy}\")"
   ]
  },
  {
   "cell_type": "code",
   "execution_count": 115,
   "id": "4045e440-1ef5-4e80-a546-9634f30c78af",
   "metadata": {},
   "outputs": [
    {
     "name": "stdout",
     "output_type": "stream",
     "text": [
      "f1_score: 0.012804097311139564\n",
      "precision_score: 0.35714285714285715\n",
      "recall_score: 0.00651890482398957\n"
     ]
    }
   ],
   "source": [
    "# Calculating and displaying the f1 score using the true and predicted target variables\n",
    "f1_score = f1_score(y_true = y_test, y_pred = y_pred_reg)\n",
    "print(f\"f1_score: {f1_score}\")\n",
    "\n",
    "# Calculating and displaying the precision score using the true and predicted target variables\n",
    "precision = precision_score(y_true = y_test, y_pred = y_pred_reg)\n",
    "print(f\"precision_score: {precision}\")\n",
    "\n",
    "# Calculating and displaying the recall score using the true and predicted target variables\n",
    "recall = recall_score(y_true = y_test, y_pred = y_pred_reg)\n",
    "print(f\"recall_score: {recall}\")"
   ]
  },
  {
   "cell_type": "markdown",
   "id": "2973a0a4-0304-4d4d-9391-d3ade26eb4a6",
   "metadata": {},
   "source": [
    "* F1 Score (0.0009): Reflects a very low balance between precision and recall, suggesting a poor trade-off between accurately identifying positive cases and avoiding false positives and false negatives.\n",
    "* Precision Score (0.6): The model correctly identifies 60% of the positive predictions out of all the positive cases predicted. However, this information alone doesn't provide a comprehensive understanding of the model's performance.\n",
    "* Recall Score (0.004): Indicates that the model only captured 0.4% of the actual positive cases from the total positive instances. This extremely low recall suggests that the model is missing a significant number of positive cases.\n",
    "* Accuracy (0.61): The accuracy is reported at 61%, which might seem relatively higher. However, in scenarios with imbalanced classes, accuracy alone might be misleading, particularly if positive cases are significantly less frequent than negatives.\n",
    "\n",
    "\n",
    "In summary, these scores collectively reveal that the model is facing substantial challenges in identifying positive cases. It demonstrates poor recall, a weak balance between precision and recall, and an accuracy measure that might not accurately represent the model's performance in imbalanced class settings. The need for significant improvement is evident, especially in correctly identifying positive instances.ves."
   ]
  },
  {
   "cell_type": "code",
   "execution_count": 116,
   "id": "2dffd078-ceaf-4b40-8816-18c9a6263707",
   "metadata": {},
   "outputs": [
    {
     "data": {
      "text/plain": [
       "'              precision    recall  f1-score   support\\n\\n           0       0.61      0.99      0.76      1199\\n           1       0.36      0.01      0.01       767\\n\\n    accuracy                           0.61      1966\\n   macro avg       0.48      0.50      0.38      1966\\nweighted avg       0.51      0.61      0.47      1966\\n'"
      ]
     },
     "execution_count": 116,
     "metadata": {},
     "output_type": "execute_result"
    }
   ],
   "source": [
    "from sklearn.metrics import classification_report\n",
    "\n",
    "# Generating a classification report to obtain a comprehensive evaluation summary\n",
    "classification_report(y_test, y_pred_reg)"
   ]
  },
  {
   "cell_type": "markdown",
   "id": "5d84dce1-e623-4e0d-980d-d1f40e7ca9bb",
   "metadata": {},
   "source": [
    "The model is notably better at correctly identifying instances of class 0 (negative class) but significantly poor at recognizing instances of class 1 (positive class), resulting in a very low F1-score for class 1 due to its low recall. The accuracy might be misleading, especially due to the class imbalance, where the model heavily favors the majority class (class 0)."
   ]
  },
  {
   "cell_type": "code",
   "execution_count": 117,
   "id": "d8502d51-afb4-4565-be32-239eecc4d5a7",
   "metadata": {},
   "outputs": [
    {
     "data": {
      "text/plain": [
       "array([[1190,    9],\n",
       "       [ 762,    5]], dtype=int64)"
      ]
     },
     "execution_count": 117,
     "metadata": {},
     "output_type": "execute_result"
    }
   ],
   "source": [
    "from sklearn.metrics import confusion_matrix\n",
    "\n",
    "# Generating a confusion matrix to display true positive, false positive, true negative and false negative counts\n",
    "confusion_matrix(y_test, y_pred_reg)"
   ]
  },
  {
   "cell_type": "code",
   "execution_count": 118,
   "id": "6098ce62-e6de-4209-acfb-dd03c4e0e1a0",
   "metadata": {},
   "outputs": [
    {
     "data": {
      "image/png": "[encoded data removed]",
      "text/plain": [
       "<Figure size 640x480 with 2 Axes>"
      ]
     },
     "metadata": {},
     "output_type": "display_data"
    }
   ],
   "source": [
    "from sklearn.metrics import ConfusionMatrixDisplay\n",
    "cm = confusion_matrix(y_test, y_pred_reg, labels=model_reg.classes_)\n",
    "disp = ConfusionMatrixDisplay(confusion_matrix=cm,\n",
    "                              display_labels=model_reg.classes_)\n",
    "disp.plot()\n",
    "\n",
    "plt.show()"
   ]
  },
  {
   "cell_type": "markdown",
   "id": "512d3eff-c4e8-4c22-bb5d-0e5879988569",
   "metadata": {},
   "source": [
    "## Model 2: Decision Tree Classifier"
   ]
  },
  {
   "cell_type": "markdown",
   "id": "074b1439-ca85-4e2a-a3dd-42ad77ac7521",
   "metadata": {},
   "source": [
    "#### Train Decision Tree Classifier"
   ]
  },
  {
   "cell_type": "code",
   "execution_count": 119,
   "id": "f97fac34-a726-4b4e-b500-c9a09c34de40",
   "metadata": {},
   "outputs": [
    {
     "data": {
      "text/html": [
       "<style>#sk-container-id-6 {color: black;background-color: white;}#sk-container-id-6 pre{padding: 0;}#sk-container-id-6 div.sk-toggleable {background-color: white;}#sk-container-id-6 label.sk-toggleable__label {cursor: pointer;display: block;width: 100%;margin-bottom: 0;padding: 0.3em;box-sizing: border-box;text-align: center;}#sk-container-id-6 label.sk-toggleable__label-arrow:before {content: \"▸\";float: left;margin-right: 0.25em;color: #696969;}#sk-container-id-6 label.sk-toggleable__label-arrow:hover:before {color: black;}#sk-container-id-6 div.sk-estimator:hover label.sk-toggleable__label-arrow:before {color: black;}#sk-container-id-6 div.sk-toggleable__content {max-height: 0;max-width: 0;overflow: hidden;text-align: left;background-color: #f0f8ff;}#sk-container-id-6 div.sk-toggleable__content pre {margin: 0.2em;color: black;border-radius: 0.25em;background-color: #f0f8ff;}#sk-container-id-6 input.sk-toggleable__control:checked~div.sk-toggleable__content {max-height: 200px;max-width: 100%;overflow: auto;}#sk-container-id-6 input.sk-toggleable__control:checked~label.sk-toggleable__label-arrow:before {content: \"▾\";}#sk-container-id-6 div.sk-estimator input.sk-toggleable__control:checked~label.sk-toggleable__label {background-color: #d4ebff;}#sk-container-id-6 div.sk-label input.sk-toggleable__control:checked~label.sk-toggleable__label {background-color: #d4ebff;}#sk-container-id-6 input.sk-hidden--visually {border: 0;clip: rect(1px 1px 1px 1px);clip: rect(1px, 1px, 1px, 1px);height: 1px;margin: -1px;overflow: hidden;padding: 0;position: absolute;width: 1px;}#sk-container-id-6 div.sk-estimator {font-family: monospace;background-color: #f0f8ff;border: 1px dotted black;border-radius: 0.25em;box-sizing: border-box;margin-bottom: 0.5em;}#sk-container-id-6 div.sk-estimator:hover {background-color: #d4ebff;}#sk-container-id-6 div.sk-parallel-item::after {content: \"\";width: 100%;border-bottom: 1px solid gray;flex-grow: 1;}#sk-container-id-6 div.sk-label:hover label.sk-toggleable__label {background-color: #d4ebff;}#sk-container-id-6 div.sk-serial::before {content: \"\";position: absolute;border-left: 1px solid gray;box-sizing: border-box;top: 0;bottom: 0;left: 50%;z-index: 0;}#sk-container-id-6 div.sk-serial {display: flex;flex-direction: column;align-items: center;background-color: white;padding-right: 0.2em;padding-left: 0.2em;position: relative;}#sk-container-id-6 div.sk-item {position: relative;z-index: 1;}#sk-container-id-6 div.sk-parallel {display: flex;align-items: stretch;justify-content: center;background-color: white;position: relative;}#sk-container-id-6 div.sk-item::before, #sk-container-id-6 div.sk-parallel-item::before {content: \"\";position: absolute;border-left: 1px solid gray;box-sizing: border-box;top: 0;bottom: 0;left: 50%;z-index: -1;}#sk-container-id-6 div.sk-parallel-item {display: flex;flex-direction: column;z-index: 1;position: relative;background-color: white;}#sk-container-id-6 div.sk-parallel-item:first-child::after {align-self: flex-end;width: 50%;}#sk-container-id-6 div.sk-parallel-item:last-child::after {align-self: flex-start;width: 50%;}#sk-container-id-6 div.sk-parallel-item:only-child::after {width: 0;}#sk-container-id-6 div.sk-dashed-wrapped {border: 1px dashed gray;margin: 0 0.4em 0.5em 0.4em;box-sizing: border-box;padding-bottom: 0.4em;background-color: white;}#sk-container-id-6 div.sk-label label {font-family: monospace;font-weight: bold;display: inline-block;line-height: 1.2em;}#sk-container-id-6 div.sk-label-container {text-align: center;}#sk-container-id-6 div.sk-container {/* jupyter's `normalize.less` sets `[hidden] { display: none; }` but bootstrap.min.css set `[hidden] { display: none !important; }` so we also need the `!important` here to be able to override the default hidden behavior on the sphinx rendered scikit-learn.org. See: https://github.com/scikit-learn/scikit-learn/issues/21755 */display: inline-block !important;position: relative;}#sk-container-id-6 div.sk-text-repr-fallback {display: none;}</style><div id=\"sk-container-id-6\" class=\"sk-top-container\"><div class=\"sk-text-repr-fallback\"><pre>DecisionTreeClassifier(min_samples_split=10)</pre><b>In a Jupyter environment, please rerun this cell to show the HTML representation or trust the notebook. <br />On GitHub, the HTML representation is unable to render, please try loading this page with nbviewer.org.</b></div><div class=\"sk-container\" hidden><div class=\"sk-item\"><div class=\"sk-estimator sk-toggleable\"><input class=\"sk-toggleable__control sk-hidden--visually\" id=\"sk-estimator-id-6\" type=\"checkbox\" checked><label for=\"sk-estimator-id-6\" class=\"sk-toggleable__label sk-toggleable__label-arrow\">DecisionTreeClassifier</label><div class=\"sk-toggleable__content\"><pre>DecisionTreeClassifier(min_samples_split=10)</pre></div></div></div></div></div>"
      ],
      "text/plain": [
       "DecisionTreeClassifier(min_samples_split=10)"
      ]
     },
     "execution_count": 119,
     "metadata": {},
     "output_type": "execute_result"
    }
   ],
   "source": [
    "from sklearn.tree import DecisionTreeClassifier\n",
    "model_dt = DecisionTreeClassifier(criterion= 'gini', min_samples_split=10, splitter = \"best\")\n",
    "model_dt.fit(X_train, y_train)"
   ]
  },
  {
   "cell_type": "code",
   "execution_count": 120,
   "id": "b0879de1-3f7d-4621-be3c-ec7cb9c62134",
   "metadata": {},
   "outputs": [
    {
     "name": "stdout",
     "output_type": "stream",
     "text": [
      "Accuracy_score : 57.42624618514751\n"
     ]
    }
   ],
   "source": [
    "# Checking Accuracy\n",
    "from sklearn.metrics import accuracy_score\n",
    "y_pred_dt = model_dt.predict(X_test)\n",
    "AS = accuracy_score(y_test, y_pred_dt)*100\n",
    "print(f\"Accuracy_score : {AS}\")"
   ]
  },
  {
   "cell_type": "markdown",
   "id": "bfc330fd-adac-4cb6-8da4-5b3a61854598",
   "metadata": {},
   "source": [
    "#### Confusion Matrix and Classification Report\n"
   ]
  },
  {
   "cell_type": "code",
   "execution_count": 121,
   "id": "9924874d-03f8-4051-9c97-71b53cbad7f1",
   "metadata": {},
   "outputs": [
    {
     "name": "stdout",
     "output_type": "stream",
     "text": [
      "              precision    recall  f1-score   support\n",
      "\n",
      "           0       0.64      0.68      0.66      1199\n",
      "           1       0.45      0.41      0.43       767\n",
      "\n",
      "    accuracy                           0.57      1966\n",
      "   macro avg       0.55      0.54      0.54      1966\n",
      "weighted avg       0.57      0.57      0.57      1966\n",
      "\n"
     ]
    }
   ],
   "source": [
    "from sklearn.metrics import confusion_matrix, classification_report\n",
    "CF = confusion_matrix(y_test, y_pred_dt)\n",
    "CR = classification_report(y_test, y_pred_dt)\n",
    "print(CR)"
   ]
  },
  {
   "cell_type": "code",
   "execution_count": 122,
   "id": "6978ba57-47ed-4e78-be0f-0c34ec09120b",
   "metadata": {},
   "outputs": [
    {
     "name": "stdout",
     "output_type": "stream",
     "text": [
      "[[814 385]\n",
      " [452 315]]\n"
     ]
    }
   ],
   "source": [
    "print(CF)"
   ]
  },
  {
   "cell_type": "markdown",
   "id": "1a16f241-3eb3-45cf-af78-dfbe9c5f69b0",
   "metadata": {},
   "source": [
    "## Model 3: Random Forest Classifier"
   ]
  },
  {
   "cell_type": "code",
   "execution_count": 123,
   "id": "dc8303ad-4241-4a03-8b2b-543c3c8598e6",
   "metadata": {},
   "outputs": [
    {
     "data": {
      "text/html": [
       "<style>#sk-container-id-7 {color: black;background-color: white;}#sk-container-id-7 pre{padding: 0;}#sk-container-id-7 div.sk-toggleable {background-color: white;}#sk-container-id-7 label.sk-toggleable__label {cursor: pointer;display: block;width: 100%;margin-bottom: 0;padding: 0.3em;box-sizing: border-box;text-align: center;}#sk-container-id-7 label.sk-toggleable__label-arrow:before {content: \"▸\";float: left;margin-right: 0.25em;color: #696969;}#sk-container-id-7 label.sk-toggleable__label-arrow:hover:before {color: black;}#sk-container-id-7 div.sk-estimator:hover label.sk-toggleable__label-arrow:before {color: black;}#sk-container-id-7 div.sk-toggleable__content {max-height: 0;max-width: 0;overflow: hidden;text-align: left;background-color: #f0f8ff;}#sk-container-id-7 div.sk-toggleable__content pre {margin: 0.2em;color: black;border-radius: 0.25em;background-color: #f0f8ff;}#sk-container-id-7 input.sk-toggleable__control:checked~div.sk-toggleable__content {max-height: 200px;max-width: 100%;overflow: auto;}#sk-container-id-7 input.sk-toggleable__control:checked~label.sk-toggleable__label-arrow:before {content: \"▾\";}#sk-container-id-7 div.sk-estimator input.sk-toggleable__control:checked~label.sk-toggleable__label {background-color: #d4ebff;}#sk-container-id-7 div.sk-label input.sk-toggleable__control:checked~label.sk-toggleable__label {background-color: #d4ebff;}#sk-container-id-7 input.sk-hidden--visually {border: 0;clip: rect(1px 1px 1px 1px);clip: rect(1px, 1px, 1px, 1px);height: 1px;margin: -1px;overflow: hidden;padding: 0;position: absolute;width: 1px;}#sk-container-id-7 div.sk-estimator {font-family: monospace;background-color: #f0f8ff;border: 1px dotted black;border-radius: 0.25em;box-sizing: border-box;margin-bottom: 0.5em;}#sk-container-id-7 div.sk-estimator:hover {background-color: #d4ebff;}#sk-container-id-7 div.sk-parallel-item::after {content: \"\";width: 100%;border-bottom: 1px solid gray;flex-grow: 1;}#sk-container-id-7 div.sk-label:hover label.sk-toggleable__label {background-color: #d4ebff;}#sk-container-id-7 div.sk-serial::before {content: \"\";position: absolute;border-left: 1px solid gray;box-sizing: border-box;top: 0;bottom: 0;left: 50%;z-index: 0;}#sk-container-id-7 div.sk-serial {display: flex;flex-direction: column;align-items: center;background-color: white;padding-right: 0.2em;padding-left: 0.2em;position: relative;}#sk-container-id-7 div.sk-item {position: relative;z-index: 1;}#sk-container-id-7 div.sk-parallel {display: flex;align-items: stretch;justify-content: center;background-color: white;position: relative;}#sk-container-id-7 div.sk-item::before, #sk-container-id-7 div.sk-parallel-item::before {content: \"\";position: absolute;border-left: 1px solid gray;box-sizing: border-box;top: 0;bottom: 0;left: 50%;z-index: -1;}#sk-container-id-7 div.sk-parallel-item {display: flex;flex-direction: column;z-index: 1;position: relative;background-color: white;}#sk-container-id-7 div.sk-parallel-item:first-child::after {align-self: flex-end;width: 50%;}#sk-container-id-7 div.sk-parallel-item:last-child::after {align-self: flex-start;width: 50%;}#sk-container-id-7 div.sk-parallel-item:only-child::after {width: 0;}#sk-container-id-7 div.sk-dashed-wrapped {border: 1px dashed gray;margin: 0 0.4em 0.5em 0.4em;box-sizing: border-box;padding-bottom: 0.4em;background-color: white;}#sk-container-id-7 div.sk-label label {font-family: monospace;font-weight: bold;display: inline-block;line-height: 1.2em;}#sk-container-id-7 div.sk-label-container {text-align: center;}#sk-container-id-7 div.sk-container {/* jupyter's `normalize.less` sets `[hidden] { display: none; }` but bootstrap.min.css set `[hidden] { display: none !important; }` so we also need the `!important` here to be able to override the default hidden behavior on the sphinx rendered scikit-learn.org. See: https://github.com/scikit-learn/scikit-learn/issues/21755 */display: inline-block !important;position: relative;}#sk-container-id-7 div.sk-text-repr-fallback {display: none;}</style><div id=\"sk-container-id-7\" class=\"sk-top-container\"><div class=\"sk-text-repr-fallback\"><pre>RandomForestClassifier()</pre><b>In a Jupyter environment, please rerun this cell to show the HTML representation or trust the notebook. <br />On GitHub, the HTML representation is unable to render, please try loading this page with nbviewer.org.</b></div><div class=\"sk-container\" hidden><div class=\"sk-item\"><div class=\"sk-estimator sk-toggleable\"><input class=\"sk-toggleable__control sk-hidden--visually\" id=\"sk-estimator-id-7\" type=\"checkbox\" checked><label for=\"sk-estimator-id-7\" class=\"sk-toggleable__label sk-toggleable__label-arrow\">RandomForestClassifier</label><div class=\"sk-toggleable__content\"><pre>RandomForestClassifier()</pre></div></div></div></div></div>"
      ],
      "text/plain": [
       "RandomForestClassifier()"
      ]
     },
     "execution_count": 123,
     "metadata": {},
     "output_type": "execute_result"
    }
   ],
   "source": [
    "from sklearn.ensemble import RandomForestClassifier\n",
    "\n",
    "ranfor = RandomForestClassifier()\n",
    "ranfor.fit(X_train, y_train)"
   ]
  },
  {
   "cell_type": "code",
   "execution_count": 124,
   "id": "27242367-dcdd-4542-81dc-5c5a7c976bb2",
   "metadata": {},
   "outputs": [
    {
     "name": "stdout",
     "output_type": "stream",
     "text": [
      "Accuracy_score : 65.15768056968464\n"
     ]
    }
   ],
   "source": [
    "# Checking Accuracy\n",
    "from sklearn.metrics import accuracy_score\n",
    "y_pred_ranfor = ranfor.predict(X_test)\n",
    "AS = accuracy_score(y_test, y_pred_ranfor)*100\n",
    "print(f\"Accuracy_score : {AS}\")"
   ]
  },
  {
   "cell_type": "markdown",
   "id": "7424c7c3-0cac-4f3d-b5a6-9f3e98bb9f33",
   "metadata": {},
   "source": [
    "## Model 4: KNN"
   ]
  },
  {
   "cell_type": "code",
   "execution_count": 125,
   "id": "6d9823d5-cd69-4d96-bc7f-c354d28e4335",
   "metadata": {},
   "outputs": [
    {
     "data": {
      "text/html": [
       "<style>#sk-container-id-8 {color: black;background-color: white;}#sk-container-id-8 pre{padding: 0;}#sk-container-id-8 div.sk-toggleable {background-color: white;}#sk-container-id-8 label.sk-toggleable__label {cursor: pointer;display: block;width: 100%;margin-bottom: 0;padding: 0.3em;box-sizing: border-box;text-align: center;}#sk-container-id-8 label.sk-toggleable__label-arrow:before {content: \"▸\";float: left;margin-right: 0.25em;color: #696969;}#sk-container-id-8 label.sk-toggleable__label-arrow:hover:before {color: black;}#sk-container-id-8 div.sk-estimator:hover label.sk-toggleable__label-arrow:before {color: black;}#sk-container-id-8 div.sk-toggleable__content {max-height: 0;max-width: 0;overflow: hidden;text-align: left;background-color: #f0f8ff;}#sk-container-id-8 div.sk-toggleable__content pre {margin: 0.2em;color: black;border-radius: 0.25em;background-color: #f0f8ff;}#sk-container-id-8 input.sk-toggleable__control:checked~div.sk-toggleable__content {max-height: 200px;max-width: 100%;overflow: auto;}#sk-container-id-8 input.sk-toggleable__control:checked~label.sk-toggleable__label-arrow:before {content: \"▾\";}#sk-container-id-8 div.sk-estimator input.sk-toggleable__control:checked~label.sk-toggleable__label {background-color: #d4ebff;}#sk-container-id-8 div.sk-label input.sk-toggleable__control:checked~label.sk-toggleable__label {background-color: #d4ebff;}#sk-container-id-8 input.sk-hidden--visually {border: 0;clip: rect(1px 1px 1px 1px);clip: rect(1px, 1px, 1px, 1px);height: 1px;margin: -1px;overflow: hidden;padding: 0;position: absolute;width: 1px;}#sk-container-id-8 div.sk-estimator {font-family: monospace;background-color: #f0f8ff;border: 1px dotted black;border-radius: 0.25em;box-sizing: border-box;margin-bottom: 0.5em;}#sk-container-id-8 div.sk-estimator:hover {background-color: #d4ebff;}#sk-container-id-8 div.sk-parallel-item::after {content: \"\";width: 100%;border-bottom: 1px solid gray;flex-grow: 1;}#sk-container-id-8 div.sk-label:hover label.sk-toggleable__label {background-color: #d4ebff;}#sk-container-id-8 div.sk-serial::before {content: \"\";position: absolute;border-left: 1px solid gray;box-sizing: border-box;top: 0;bottom: 0;left: 50%;z-index: 0;}#sk-container-id-8 div.sk-serial {display: flex;flex-direction: column;align-items: center;background-color: white;padding-right: 0.2em;padding-left: 0.2em;position: relative;}#sk-container-id-8 div.sk-item {position: relative;z-index: 1;}#sk-container-id-8 div.sk-parallel {display: flex;align-items: stretch;justify-content: center;background-color: white;position: relative;}#sk-container-id-8 div.sk-item::before, #sk-container-id-8 div.sk-parallel-item::before {content: \"\";position: absolute;border-left: 1px solid gray;box-sizing: border-box;top: 0;bottom: 0;left: 50%;z-index: -1;}#sk-container-id-8 div.sk-parallel-item {display: flex;flex-direction: column;z-index: 1;position: relative;background-color: white;}#sk-container-id-8 div.sk-parallel-item:first-child::after {align-self: flex-end;width: 50%;}#sk-container-id-8 div.sk-parallel-item:last-child::after {align-self: flex-start;width: 50%;}#sk-container-id-8 div.sk-parallel-item:only-child::after {width: 0;}#sk-container-id-8 div.sk-dashed-wrapped {border: 1px dashed gray;margin: 0 0.4em 0.5em 0.4em;box-sizing: border-box;padding-bottom: 0.4em;background-color: white;}#sk-container-id-8 div.sk-label label {font-family: monospace;font-weight: bold;display: inline-block;line-height: 1.2em;}#sk-container-id-8 div.sk-label-container {text-align: center;}#sk-container-id-8 div.sk-container {/* jupyter's `normalize.less` sets `[hidden] { display: none; }` but bootstrap.min.css set `[hidden] { display: none !important; }` so we also need the `!important` here to be able to override the default hidden behavior on the sphinx rendered scikit-learn.org. See: https://github.com/scikit-learn/scikit-learn/issues/21755 */display: inline-block !important;position: relative;}#sk-container-id-8 div.sk-text-repr-fallback {display: none;}</style><div id=\"sk-container-id-8\" class=\"sk-top-container\"><div class=\"sk-text-repr-fallback\"><pre>KNeighborsClassifier()</pre><b>In a Jupyter environment, please rerun this cell to show the HTML representation or trust the notebook. <br />On GitHub, the HTML representation is unable to render, please try loading this page with nbviewer.org.</b></div><div class=\"sk-container\" hidden><div class=\"sk-item\"><div class=\"sk-estimator sk-toggleable\"><input class=\"sk-toggleable__control sk-hidden--visually\" id=\"sk-estimator-id-8\" type=\"checkbox\" checked><label for=\"sk-estimator-id-8\" class=\"sk-toggleable__label sk-toggleable__label-arrow\">KNeighborsClassifier</label><div class=\"sk-toggleable__content\"><pre>KNeighborsClassifier()</pre></div></div></div></div></div>"
      ],
      "text/plain": [
       "KNeighborsClassifier()"
      ]
     },
     "execution_count": 125,
     "metadata": {},
     "output_type": "execute_result"
    }
   ],
   "source": [
    "from sklearn.neighbors import KNeighborsClassifier\n",
    "\n",
    "knn = KNeighborsClassifier()\n",
    "knn.fit(X_train, y_train)"
   ]
  },
  {
   "cell_type": "code",
   "execution_count": 126,
   "id": "f092810e-0445-4345-8326-b0c7bb32e956",
   "metadata": {},
   "outputs": [
    {
     "name": "stdout",
     "output_type": "stream",
     "text": [
      "Accuracy_score : 60.274669379450664\n"
     ]
    }
   ],
   "source": [
    "# Checking Accuracy\n",
    "from sklearn.metrics import accuracy_score\n",
    "y_pred_knn = knn.predict(X_test)\n",
    "AS = accuracy_score(y_test, y_pred_knn)*100\n",
    "print(f\"Accuracy_score : {AS}\")"
   ]
  },
  {
   "cell_type": "markdown",
   "id": "de0cfb88-0520-41bc-86f0-d7bc7ffcc61d",
   "metadata": {},
   "source": [
    "## Model 5: Support Vector Classifier"
   ]
  },
  {
   "cell_type": "code",
   "execution_count": 127,
   "id": "a0bffcca-56ed-4a19-93ea-cc5562354a19",
   "metadata": {},
   "outputs": [
    {
     "data": {
      "text/html": [
       "<style>#sk-container-id-9 {color: black;background-color: white;}#sk-container-id-9 pre{padding: 0;}#sk-container-id-9 div.sk-toggleable {background-color: white;}#sk-container-id-9 label.sk-toggleable__label {cursor: pointer;display: block;width: 100%;margin-bottom: 0;padding: 0.3em;box-sizing: border-box;text-align: center;}#sk-container-id-9 label.sk-toggleable__label-arrow:before {content: \"▸\";float: left;margin-right: 0.25em;color: #696969;}#sk-container-id-9 label.sk-toggleable__label-arrow:hover:before {color: black;}#sk-container-id-9 div.sk-estimator:hover label.sk-toggleable__label-arrow:before {color: black;}#sk-container-id-9 div.sk-toggleable__content {max-height: 0;max-width: 0;overflow: hidden;text-align: left;background-color: #f0f8ff;}#sk-container-id-9 div.sk-toggleable__content pre {margin: 0.2em;color: black;border-radius: 0.25em;background-color: #f0f8ff;}#sk-container-id-9 input.sk-toggleable__control:checked~div.sk-toggleable__content {max-height: 200px;max-width: 100%;overflow: auto;}#sk-container-id-9 input.sk-toggleable__control:checked~label.sk-toggleable__label-arrow:before {content: \"▾\";}#sk-container-id-9 div.sk-estimator input.sk-toggleable__control:checked~label.sk-toggleable__label {background-color: #d4ebff;}#sk-container-id-9 div.sk-label input.sk-toggleable__control:checked~label.sk-toggleable__label {background-color: #d4ebff;}#sk-container-id-9 input.sk-hidden--visually {border: 0;clip: rect(1px 1px 1px 1px);clip: rect(1px, 1px, 1px, 1px);height: 1px;margin: -1px;overflow: hidden;padding: 0;position: absolute;width: 1px;}#sk-container-id-9 div.sk-estimator {font-family: monospace;background-color: #f0f8ff;border: 1px dotted black;border-radius: 0.25em;box-sizing: border-box;margin-bottom: 0.5em;}#sk-container-id-9 div.sk-estimator:hover {background-color: #d4ebff;}#sk-container-id-9 div.sk-parallel-item::after {content: \"\";width: 100%;border-bottom: 1px solid gray;flex-grow: 1;}#sk-container-id-9 div.sk-label:hover label.sk-toggleable__label {background-color: #d4ebff;}#sk-container-id-9 div.sk-serial::before {content: \"\";position: absolute;border-left: 1px solid gray;box-sizing: border-box;top: 0;bottom: 0;left: 50%;z-index: 0;}#sk-container-id-9 div.sk-serial {display: flex;flex-direction: column;align-items: center;background-color: white;padding-right: 0.2em;padding-left: 0.2em;position: relative;}#sk-container-id-9 div.sk-item {position: relative;z-index: 1;}#sk-container-id-9 div.sk-parallel {display: flex;align-items: stretch;justify-content: center;background-color: white;position: relative;}#sk-container-id-9 div.sk-item::before, #sk-container-id-9 div.sk-parallel-item::before {content: \"\";position: absolute;border-left: 1px solid gray;box-sizing: border-box;top: 0;bottom: 0;left: 50%;z-index: -1;}#sk-container-id-9 div.sk-parallel-item {display: flex;flex-direction: column;z-index: 1;position: relative;background-color: white;}#sk-container-id-9 div.sk-parallel-item:first-child::after {align-self: flex-end;width: 50%;}#sk-container-id-9 div.sk-parallel-item:last-child::after {align-self: flex-start;width: 50%;}#sk-container-id-9 div.sk-parallel-item:only-child::after {width: 0;}#sk-container-id-9 div.sk-dashed-wrapped {border: 1px dashed gray;margin: 0 0.4em 0.5em 0.4em;box-sizing: border-box;padding-bottom: 0.4em;background-color: white;}#sk-container-id-9 div.sk-label label {font-family: monospace;font-weight: bold;display: inline-block;line-height: 1.2em;}#sk-container-id-9 div.sk-label-container {text-align: center;}#sk-container-id-9 div.sk-container {/* jupyter's `normalize.less` sets `[hidden] { display: none; }` but bootstrap.min.css set `[hidden] { display: none !important; }` so we also need the `!important` here to be able to override the default hidden behavior on the sphinx rendered scikit-learn.org. See: https://github.com/scikit-learn/scikit-learn/issues/21755 */display: inline-block !important;position: relative;}#sk-container-id-9 div.sk-text-repr-fallback {display: none;}</style><div id=\"sk-container-id-9\" class=\"sk-top-container\"><div class=\"sk-text-repr-fallback\"><pre>SVC()</pre><b>In a Jupyter environment, please rerun this cell to show the HTML representation or trust the notebook. <br />On GitHub, the HTML representation is unable to render, please try loading this page with nbviewer.org.</b></div><div class=\"sk-container\" hidden><div class=\"sk-item\"><div class=\"sk-estimator sk-toggleable\"><input class=\"sk-toggleable__control sk-hidden--visually\" id=\"sk-estimator-id-9\" type=\"checkbox\" checked><label for=\"sk-estimator-id-9\" class=\"sk-toggleable__label sk-toggleable__label-arrow\">SVC</label><div class=\"sk-toggleable__content\"><pre>SVC()</pre></div></div></div></div></div>"
      ],
      "text/plain": [
       "SVC()"
      ]
     },
     "execution_count": 127,
     "metadata": {},
     "output_type": "execute_result"
    }
   ],
   "source": [
    "from sklearn.svm import SVC, LinearSVC\n",
    "\n",
    "svm = SVC()\n",
    "svm.fit(X_train, y_train)"
   ]
  },
  {
   "cell_type": "code",
   "execution_count": 128,
   "id": "3f989db1-8e81-4625-a332-c7c45dbe979f",
   "metadata": {},
   "outputs": [
    {
     "name": "stdout",
     "output_type": "stream",
     "text": [
      "Accuracy_score : 66.48016276703967\n"
     ]
    }
   ],
   "source": [
    "# Checking Accuracy\n",
    "from sklearn.metrics import accuracy_score\n",
    "y_pred_svm = svm.predict(X_test)\n",
    "AS = accuracy_score(y_test, y_pred_svm)*100\n",
    "print(f\"Accuracy_score : {AS}\")"
   ]
  },
  {
   "cell_type": "markdown",
   "id": "51fd3d03-c633-4b55-b461-5fbe4d85f281",
   "metadata": {},
   "source": [
    "## Model 6: Naive Bayes "
   ]
  },
  {
   "cell_type": "code",
   "execution_count": 129,
   "id": "b7218487-a655-4629-8f87-0362f714dbc9",
   "metadata": {},
   "outputs": [
    {
     "data": {
      "text/html": [
       "<style>#sk-container-id-10 {color: black;background-color: white;}#sk-container-id-10 pre{padding: 0;}#sk-container-id-10 div.sk-toggleable {background-color: white;}#sk-container-id-10 label.sk-toggleable__label {cursor: pointer;display: block;width: 100%;margin-bottom: 0;padding: 0.3em;box-sizing: border-box;text-align: center;}#sk-container-id-10 label.sk-toggleable__label-arrow:before {content: \"▸\";float: left;margin-right: 0.25em;color: #696969;}#sk-container-id-10 label.sk-toggleable__label-arrow:hover:before {color: black;}#sk-container-id-10 div.sk-estimator:hover label.sk-toggleable__label-arrow:before {color: black;}#sk-container-id-10 div.sk-toggleable__content {max-height: 0;max-width: 0;overflow: hidden;text-align: left;background-color: #f0f8ff;}#sk-container-id-10 div.sk-toggleable__content pre {margin: 0.2em;color: black;border-radius: 0.25em;background-color: #f0f8ff;}#sk-container-id-10 input.sk-toggleable__control:checked~div.sk-toggleable__content {max-height: 200px;max-width: 100%;overflow: auto;}#sk-container-id-10 input.sk-toggleable__control:checked~label.sk-toggleable__label-arrow:before {content: \"▾\";}#sk-container-id-10 div.sk-estimator input.sk-toggleable__control:checked~label.sk-toggleable__label {background-color: #d4ebff;}#sk-container-id-10 div.sk-label input.sk-toggleable__control:checked~label.sk-toggleable__label {background-color: #d4ebff;}#sk-container-id-10 input.sk-hidden--visually {border: 0;clip: rect(1px 1px 1px 1px);clip: rect(1px, 1px, 1px, 1px);height: 1px;margin: -1px;overflow: hidden;padding: 0;position: absolute;width: 1px;}#sk-container-id-10 div.sk-estimator {font-family: monospace;background-color: #f0f8ff;border: 1px dotted black;border-radius: 0.25em;box-sizing: border-box;margin-bottom: 0.5em;}#sk-container-id-10 div.sk-estimator:hover {background-color: #d4ebff;}#sk-container-id-10 div.sk-parallel-item::after {content: \"\";width: 100%;border-bottom: 1px solid gray;flex-grow: 1;}#sk-container-id-10 div.sk-label:hover label.sk-toggleable__label {background-color: #d4ebff;}#sk-container-id-10 div.sk-serial::before {content: \"\";position: absolute;border-left: 1px solid gray;box-sizing: border-box;top: 0;bottom: 0;left: 50%;z-index: 0;}#sk-container-id-10 div.sk-serial {display: flex;flex-direction: column;align-items: center;background-color: white;padding-right: 0.2em;padding-left: 0.2em;position: relative;}#sk-container-id-10 div.sk-item {position: relative;z-index: 1;}#sk-container-id-10 div.sk-parallel {display: flex;align-items: stretch;justify-content: center;background-color: white;position: relative;}#sk-container-id-10 div.sk-item::before, #sk-container-id-10 div.sk-parallel-item::before {content: \"\";position: absolute;border-left: 1px solid gray;box-sizing: border-box;top: 0;bottom: 0;left: 50%;z-index: -1;}#sk-container-id-10 div.sk-parallel-item {display: flex;flex-direction: column;z-index: 1;position: relative;background-color: white;}#sk-container-id-10 div.sk-parallel-item:first-child::after {align-self: flex-end;width: 50%;}#sk-container-id-10 div.sk-parallel-item:last-child::after {align-self: flex-start;width: 50%;}#sk-container-id-10 div.sk-parallel-item:only-child::after {width: 0;}#sk-container-id-10 div.sk-dashed-wrapped {border: 1px dashed gray;margin: 0 0.4em 0.5em 0.4em;box-sizing: border-box;padding-bottom: 0.4em;background-color: white;}#sk-container-id-10 div.sk-label label {font-family: monospace;font-weight: bold;display: inline-block;line-height: 1.2em;}#sk-container-id-10 div.sk-label-container {text-align: center;}#sk-container-id-10 div.sk-container {/* jupyter's `normalize.less` sets `[hidden] { display: none; }` but bootstrap.min.css set `[hidden] { display: none !important; }` so we also need the `!important` here to be able to override the default hidden behavior on the sphinx rendered scikit-learn.org. See: https://github.com/scikit-learn/scikit-learn/issues/21755 */display: inline-block !important;position: relative;}#sk-container-id-10 div.sk-text-repr-fallback {display: none;}</style><div id=\"sk-container-id-10\" class=\"sk-top-container\"><div class=\"sk-text-repr-fallback\"><pre>GaussianNB()</pre><b>In a Jupyter environment, please rerun this cell to show the HTML representation or trust the notebook. <br />On GitHub, the HTML representation is unable to render, please try loading this page with nbviewer.org.</b></div><div class=\"sk-container\" hidden><div class=\"sk-item\"><div class=\"sk-estimator sk-toggleable\"><input class=\"sk-toggleable__control sk-hidden--visually\" id=\"sk-estimator-id-10\" type=\"checkbox\" checked><label for=\"sk-estimator-id-10\" class=\"sk-toggleable__label sk-toggleable__label-arrow\">GaussianNB</label><div class=\"sk-toggleable__content\"><pre>GaussianNB()</pre></div></div></div></div></div>"
      ],
      "text/plain": [
       "GaussianNB()"
      ]
     },
     "execution_count": 129,
     "metadata": {},
     "output_type": "execute_result"
    }
   ],
   "source": [
    "from sklearn.naive_bayes import GaussianNB\n",
    "\n",
    "nb = GaussianNB()\n",
    "nb.fit(X_train, y_train)"
   ]
  },
  {
   "cell_type": "code",
   "execution_count": 139,
   "id": "3a235dfd-725f-479a-b20f-a1b2d80e5c4b",
   "metadata": {},
   "outputs": [
    {
     "data": {
      "image/png": "[encoded data removed]",
      "text/plain": [
       "<Figure size 600x600 with 1 Axes>"
      ]
     },
     "metadata": {},
     "output_type": "display_data"
    }
   ],
   "source": [
    "# Checking Accuracy\n",
    "import numpy as np\n",
    "import matplotlib.pyplot as plt\n",
    "from sklearn.model_selection import train_test_split\n",
    "from sklearn.metrics import accuracy_score\n",
    "from sklearn.linear_model import LogisticRegression\n",
    "from sklearn.neighbors import KNeighborsClassifier\n",
    "from sklearn.svm import SVC\n",
    "from sklearn.naive_bayes import GaussianNB\n",
    "from sklearn.tree import DecisionTreeClassifier\n",
    "from sklearn.ensemble import RandomForestClassifier\n",
    "\n",
    "# Assuming X is your feature matrix and y is your target variable\n",
    "\n",
    "# Splitting the data into training and test sets (adjust test_size and random_state as needed)\n",
    "X_train, X_test, y_train, y_test = train_test_split(X, y, test_size=0.2, random_state=42)\n",
    "\n",
    "# Define a list of models to evaluate\n",
    "models = [\n",
    "    ('Logistic Regression', LogisticRegression()),\n",
    "    ('K-Nearest Neighbors', KNeighborsClassifier()),\n",
    "    ('Support Vector Classifier', SVC()),\n",
    "    ('Naive Bayes', GaussianNB()),\n",
    "    ('Decision Tree', DecisionTreeClassifier()),\n",
    "    ('Random Forest', RandomForestClassifier())\n",
    "]\n",
    "\n",
    "# Calculate accuracy scores for each model\n",
    "accuracy_scores = []\n",
    "model_names = []\n",
    "\n",
    "for name, model in models:\n",
    "    model.fit(X_train, y_train)  # Train the model\n",
    "    y_pred = model.predict(X_test)  # Make predictions\n",
    "    accuracy = accuracy_score(y_test, y_pred)  # Calculate accuracy\n",
    "    accuracy_scores.append(accuracy * 100)  # Store accuracy score\n",
    "    model_names.append(name)  # Store model name\n",
    "\n",
    "# Plotting the accuracy scores\n",
    "plt.figure(figsize=(6, 6))\n",
    "plt.bar(model_names, accuracy_scores, color='lightgreen')\n",
    "plt.ylim(0, 100)  # Set y-axis limit for accuracy percentage\n",
    "plt.xlabel('Model')\n",
    "plt.ylabel('Accuracy (%)')\n",
    "plt.title('Accuracy of Different Machine Learning Models')\n",
    "plt.xticks(rotation=45, ha='right')\n",
    "plt.grid(axis='y')\n",
    "\n",
    "# Displaying the accuracy values on top of each bar\n",
    "for i, accuracy in enumerate(accuracy_scores):\n",
    "    plt.text(i, accuracy, f'{accuracy:.2f}%', ha='center', va='bottom')\n",
    "\n",
    "plt.tight_layout()\n",
    "plt.show()\n"
   ]
  },
  {
   "cell_type": "code",
   "execution_count": 131,
   "id": "0371e491-eb0a-4d4e-9ea9-f88e72416dda",
   "metadata": {},
   "outputs": [
    {
     "name": "stdout",
     "output_type": "stream",
     "text": [
      "The potability of water for the given values is [1]\n",
      "Safe Drinking Water!\n"
     ]
    }
   ],
   "source": [
    "# Assuming your SVM model is named 'svm' and the feature values are provided in a list\n",
    "# List of features for prediction\n",
    "#features = [[5.735724, 158.318741, 25363.016594, 7.728601, 377.543291, 568.304671, 13.626624, 75.952337, 4.732954]]\n",
    "\n",
    "# Example values for features to predict potability as 1 (safe for drinking)\n",
    "features = [[0.288593,1.227231,-0.031677,-0.337185,2.039489,-1.571689,1.950835,0.120936,0.353029]]\n",
    "\n",
    "\n",
    "# Make a prediction\n",
    "X_SVM = svm.predict(features)\n",
    "\n",
    "print(\"The potability of water for the given values is\" ,X_SVM)\n",
    "\n",
    "if X_SVM == 0:\n",
    "    print(\"Unsafe Drinking Water!\")\n",
    "else:\n",
    "    print(\"Safe Drinking Water!\")\n"
   ]
  },
  {
   "cell_type": "code",
   "execution_count": 132,
   "id": "563f5f92-ab84-4efa-a390-b9805c535f1c",
   "metadata": {},
   "outputs": [
    {
     "name": "stdout",
     "output_type": "stream",
     "text": [
      "[[-0.02547355 -0.39082858 -0.17711859 ...  1.78194369  0.03884084\n",
      "   1.17889387]\n",
      " [-0.29325773 -0.22679888  1.23867225 ...  0.1275344   0.09116004\n",
      "   0.76309049]\n",
      " [ 0.52514367  0.84226912  0.14257834 ... -0.26551507 -1.47976643\n",
      "  -1.89528014]\n",
      " ...\n",
      " [ 0.2619045   0.64884566 -0.29400258 ...  0.05300562 -0.58419282\n",
      "  -0.16114321]\n",
      " [-0.82428859 -0.343859    2.51563761 ...  0.30871056 -0.43137114\n",
      "   1.97450628]\n",
      " [-0.02547355  0.73561116  0.69816608 ...  0.98176067  1.29637255\n",
      "  -0.50907932]] [0 0 0 0 0 1 0 0 0 0 0 0 1 0 1 0 0 0 0 0 1 0 0 0 0 0 0 0 0 0 0 0 0 0 0 1 0\n",
      " 0 0 1 0 1 1 0 0 0 0 0 0 0 0 0 0 0 0 0 0 0 0 0 0 0 0 0 0 0 0 1 0 1 0 0 0 0\n",
      " 0 1 0 0 0 0 1 0 0 0 0 0 0 0 0 0 0 0 0 0 0 0 0 0 0 0 0 0 0 0 0 0 0 1 0 0 0\n",
      " 0 0 0 0 0 0 0 1 1 0 0 0 0 0 0 0 0 0 0 0 1 0 0 0 1 0 0 0 0 0 0 0 0 1 0 0 0\n",
      " 0 0 1 0 0 0 1 0 0 0 0 0 0 0 0 0 1 1 0 0 0 0 1 0 0 0 1 1 0 0 0 1 0 0 1 0 1\n",
      " 0 0 0 0 0 1 0 0 0 0 0 0 0 0 0 0 1 0 0 0 0 0 1 1 1 0 0 0 0 0 0 1 0 0 0 0 0\n",
      " 0 1 0 0 0 0 0 1 0 0 0 1 0 0 0 1 0 0 0 0 0 0 0 0 0 0 0 0 0 0 1 1 0 0 0 0 0\n",
      " 0 0 0 0 0 0 0 1 0 0 0 0 0 0 0 0 0 0 1 0 0 0 0 0 0 0 0 1 0 0 0 1 0 0 0 0 0\n",
      " 0 1 0 1 0 1 0 0 0 0 0 0 0 0 0 0 1 0 0 0 0 0 0 0 0 0 0 1 1 0 0 0 0 0 0 0 0\n",
      " 0 0 0 0 0 0 0 0 0 1 1 1 1 0 0 0 0 1 1 0 0 0 0 0 0 0 0 0 0 1 0 0 0 0 0 0 0\n",
      " 0 0 0 1 0 0 0 0 0 0 0 0 0 0 0 0 0 0 0 0 0 0 1 0 1 0 0 0 0 0 0 0 0 0 0 0 1\n",
      " 1 0 0 0 0 1 0 0 0 0 0 0 0 0 0 0 0 0 0 0 0 1 0 0 0 1 0 0 0 0 0 1 0 0 0 1 0\n",
      " 0 0 0 0 0 0 0 0 0 0 0 0 0 1 0 0 0 0 0 0 0 0 1 0 0 0 0 0 0 0 1 0 0 0 0 1 0\n",
      " 0 0 0 0 0 0 0 0 0 1 0 0 0 0 0 0 0 1 0 0 1 0 1 0 0 0 0 0 0 0 0 0 1 0 0 0 0\n",
      " 0 1 1 0 0 0 0 0 0 0 0 1 0 0 0 0 0 0 0 0 1 1 0 0 0 0 1 0 0 0 0 0 0 0 0 0 0\n",
      " 0 0 0 0 0 0 0 0 0 1 0 1 0 0 0 0 1 0 0 0 1 0 0 0 0 0 0 0 0 0 0 1 0 1 0 1 0\n",
      " 0 0 0 0 0 0 0 0 0 0 0 0 0 0 0 0 0 0 1 0 0 0 0 1 0 1 1 0 1 0 0 0 0 0 0 0 0\n",
      " 0 0 0 0 0 0 0 0 0 0 0 0 0 0 0 0 0 0 0 0 0 0 0 0 0 1 0]\n"
     ]
    }
   ],
   "source": [
    "print(X_test,svm.predict(X_test))"
   ]
  },
  {
   "cell_type": "code",
   "execution_count": 133,
   "id": "e2eff66e-db37-4a6e-9fe7-f67b98bf9db7",
   "metadata": {},
   "outputs": [],
   "source": [
    "pd.set_option('display.max_columns',None)"
   ]
  },
  {
   "cell_type": "code",
   "execution_count": 134,
   "id": "1ad42e1f-3c9b-45af-962a-0258aa5dc55f",
   "metadata": {},
   "outputs": [],
   "source": [
    "x_test=pd.DataFrame(X_test)"
   ]
  },
  {
   "cell_type": "code",
   "execution_count": 135,
   "id": "4aeff33c-e54f-416d-8084-7fcaaf6f395e",
   "metadata": {},
   "outputs": [
    {
     "data": {
      "text/html": [
       "<div>\n",
       "<style scoped>\n",
       "    .dataframe tbody tr th:only-of-type {\n",
       "        vertical-align: middle;\n",
       "    }\n",
       "\n",
       "    .dataframe tbody tr th {\n",
       "        vertical-align: top;\n",
       "    }\n",
       "\n",
       "    .dataframe thead th {\n",
       "        text-align: right;\n",
       "    }\n",
       "</style>\n",
       "<table border=\"1\" class=\"dataframe\">\n",
       "  <thead>\n",
       "    <tr style=\"text-align: right;\">\n",
       "      <th></th>\n",
       "      <th>0</th>\n",
       "      <th>1</th>\n",
       "      <th>2</th>\n",
       "      <th>3</th>\n",
       "      <th>4</th>\n",
       "      <th>5</th>\n",
       "      <th>6</th>\n",
       "      <th>7</th>\n",
       "      <th>8</th>\n",
       "    </tr>\n",
       "  </thead>\n",
       "  <tbody>\n",
       "    <tr>\n",
       "      <th>0</th>\n",
       "      <td>-0.025474</td>\n",
       "      <td>-0.390829</td>\n",
       "      <td>-0.177119</td>\n",
       "      <td>0.133264</td>\n",
       "      <td>-0.013528</td>\n",
       "      <td>-0.864183</td>\n",
       "      <td>1.781944</td>\n",
       "      <td>0.038841</td>\n",
       "      <td>1.178894</td>\n",
       "    </tr>\n",
       "    <tr>\n",
       "      <th>1</th>\n",
       "      <td>-0.293258</td>\n",
       "      <td>-0.226799</td>\n",
       "      <td>1.238672</td>\n",
       "      <td>-0.208970</td>\n",
       "      <td>0.006654</td>\n",
       "      <td>-1.109290</td>\n",
       "      <td>0.127534</td>\n",
       "      <td>0.091160</td>\n",
       "      <td>0.763090</td>\n",
       "    </tr>\n",
       "    <tr>\n",
       "      <th>2</th>\n",
       "      <td>0.525144</td>\n",
       "      <td>0.842269</td>\n",
       "      <td>0.142578</td>\n",
       "      <td>-0.758072</td>\n",
       "      <td>-0.918851</td>\n",
       "      <td>-0.473122</td>\n",
       "      <td>-0.265515</td>\n",
       "      <td>-1.479766</td>\n",
       "      <td>-1.895280</td>\n",
       "    </tr>\n",
       "    <tr>\n",
       "      <th>3</th>\n",
       "      <td>0.058697</td>\n",
       "      <td>-0.403963</td>\n",
       "      <td>-1.741798</td>\n",
       "      <td>-2.097011</td>\n",
       "      <td>-1.549857</td>\n",
       "      <td>0.022660</td>\n",
       "      <td>-1.356049</td>\n",
       "      <td>1.498514</td>\n",
       "      <td>-0.104958</td>\n",
       "    </tr>\n",
       "    <tr>\n",
       "      <th>4</th>\n",
       "      <td>-0.312178</td>\n",
       "      <td>-0.521033</td>\n",
       "      <td>0.499447</td>\n",
       "      <td>1.381617</td>\n",
       "      <td>-0.014799</td>\n",
       "      <td>0.868172</td>\n",
       "      <td>-0.453002</td>\n",
       "      <td>0.751854</td>\n",
       "      <td>0.623709</td>\n",
       "    </tr>\n",
       "    <tr>\n",
       "      <th>...</th>\n",
       "      <td>...</td>\n",
       "      <td>...</td>\n",
       "      <td>...</td>\n",
       "      <td>...</td>\n",
       "      <td>...</td>\n",
       "      <td>...</td>\n",
       "      <td>...</td>\n",
       "      <td>...</td>\n",
       "      <td>...</td>\n",
       "    </tr>\n",
       "    <tr>\n",
       "      <th>651</th>\n",
       "      <td>2.008392</td>\n",
       "      <td>0.848580</td>\n",
       "      <td>-0.804349</td>\n",
       "      <td>0.193346</td>\n",
       "      <td>0.093103</td>\n",
       "      <td>1.129882</td>\n",
       "      <td>1.382715</td>\n",
       "      <td>-0.066214</td>\n",
       "      <td>0.276178</td>\n",
       "    </tr>\n",
       "    <tr>\n",
       "      <th>652</th>\n",
       "      <td>-0.141940</td>\n",
       "      <td>1.066945</td>\n",
       "      <td>0.065208</td>\n",
       "      <td>-0.913476</td>\n",
       "      <td>-0.014799</td>\n",
       "      <td>0.871140</td>\n",
       "      <td>0.565353</td>\n",
       "      <td>1.588974</td>\n",
       "      <td>1.216810</td>\n",
       "    </tr>\n",
       "    <tr>\n",
       "      <th>653</th>\n",
       "      <td>0.261904</td>\n",
       "      <td>0.648846</td>\n",
       "      <td>-0.294003</td>\n",
       "      <td>-1.568798</td>\n",
       "      <td>0.520668</td>\n",
       "      <td>0.840091</td>\n",
       "      <td>0.053006</td>\n",
       "      <td>-0.584193</td>\n",
       "      <td>-0.161143</td>\n",
       "    </tr>\n",
       "    <tr>\n",
       "      <th>654</th>\n",
       "      <td>-0.824289</td>\n",
       "      <td>-0.343859</td>\n",
       "      <td>2.515638</td>\n",
       "      <td>-1.730781</td>\n",
       "      <td>2.188306</td>\n",
       "      <td>-1.171055</td>\n",
       "      <td>0.308711</td>\n",
       "      <td>-0.431371</td>\n",
       "      <td>1.974506</td>\n",
       "    </tr>\n",
       "    <tr>\n",
       "      <th>655</th>\n",
       "      <td>-0.025474</td>\n",
       "      <td>0.735611</td>\n",
       "      <td>0.698166</td>\n",
       "      <td>0.540686</td>\n",
       "      <td>-0.718238</td>\n",
       "      <td>-0.058665</td>\n",
       "      <td>0.981761</td>\n",
       "      <td>1.296373</td>\n",
       "      <td>-0.509079</td>\n",
       "    </tr>\n",
       "  </tbody>\n",
       "</table>\n",
       "<p>656 rows × 9 columns</p>\n",
       "</div>"
      ],
      "text/plain": [
       "            0         1         2         3         4         5         6  \\\n",
       "0   -0.025474 -0.390829 -0.177119  0.133264 -0.013528 -0.864183  1.781944   \n",
       "1   -0.293258 -0.226799  1.238672 -0.208970  0.006654 -1.109290  0.127534   \n",
       "2    0.525144  0.842269  0.142578 -0.758072 -0.918851 -0.473122 -0.265515   \n",
       "3    0.058697 -0.403963 -1.741798 -2.097011 -1.549857  0.022660 -1.356049   \n",
       "4   -0.312178 -0.521033  0.499447  1.381617 -0.014799  0.868172 -0.453002   \n",
       "..        ...       ...       ...       ...       ...       ...       ...   \n",
       "651  2.008392  0.848580 -0.804349  0.193346  0.093103  1.129882  1.382715   \n",
       "652 -0.141940  1.066945  0.065208 -0.913476 -0.014799  0.871140  0.565353   \n",
       "653  0.261904  0.648846 -0.294003 -1.568798  0.520668  0.840091  0.053006   \n",
       "654 -0.824289 -0.343859  2.515638 -1.730781  2.188306 -1.171055  0.308711   \n",
       "655 -0.025474  0.735611  0.698166  0.540686 -0.718238 -0.058665  0.981761   \n",
       "\n",
       "            7         8  \n",
       "0    0.038841  1.178894  \n",
       "1    0.091160  0.763090  \n",
       "2   -1.479766 -1.895280  \n",
       "3    1.498514 -0.104958  \n",
       "4    0.751854  0.623709  \n",
       "..        ...       ...  \n",
       "651 -0.066214  0.276178  \n",
       "652  1.588974  1.216810  \n",
       "653 -0.584193 -0.161143  \n",
       "654 -0.431371  1.974506  \n",
       "655  1.296373 -0.509079  \n",
       "\n",
       "[656 rows x 9 columns]"
      ]
     },
     "execution_count": 135,
     "metadata": {},
     "output_type": "execute_result"
    }
   ],
   "source": [
    "x_test"
   ]
  },
  {
   "cell_type": "code",
   "execution_count": 136,
   "id": "0156553d-e840-44e4-9281-130f1d7f4be5",
   "metadata": {},
   "outputs": [
    {
     "data": {
      "text/html": [
       "<div>\n",
       "<style scoped>\n",
       "    .dataframe tbody tr th:only-of-type {\n",
       "        vertical-align: middle;\n",
       "    }\n",
       "\n",
       "    .dataframe tbody tr th {\n",
       "        vertical-align: top;\n",
       "    }\n",
       "\n",
       "    .dataframe thead th {\n",
       "        text-align: right;\n",
       "    }\n",
       "</style>\n",
       "<table border=\"1\" class=\"dataframe\">\n",
       "  <thead>\n",
       "    <tr style=\"text-align: right;\">\n",
       "      <th></th>\n",
       "      <th>ph</th>\n",
       "      <th>Hardness</th>\n",
       "      <th>Solids</th>\n",
       "      <th>Chloramines</th>\n",
       "      <th>Sulfate</th>\n",
       "      <th>Conductivity</th>\n",
       "      <th>Organic_carbon</th>\n",
       "      <th>Trihalomethanes</th>\n",
       "      <th>Turbidity</th>\n",
       "      <th>Potability</th>\n",
       "    </tr>\n",
       "  </thead>\n",
       "  <tbody>\n",
       "    <tr>\n",
       "      <th>0</th>\n",
       "      <td>7.036752</td>\n",
       "      <td>204.890455</td>\n",
       "      <td>20791.318981</td>\n",
       "      <td>7.300212</td>\n",
       "      <td>368.516441</td>\n",
       "      <td>564.308654</td>\n",
       "      <td>10.379783</td>\n",
       "      <td>86.990970</td>\n",
       "      <td>2.963135</td>\n",
       "      <td>0</td>\n",
       "    </tr>\n",
       "    <tr>\n",
       "      <th>1</th>\n",
       "      <td>3.716080</td>\n",
       "      <td>129.422921</td>\n",
       "      <td>18630.057858</td>\n",
       "      <td>6.635246</td>\n",
       "      <td>333.073546</td>\n",
       "      <td>592.885359</td>\n",
       "      <td>15.180013</td>\n",
       "      <td>56.329076</td>\n",
       "      <td>4.500656</td>\n",
       "      <td>0</td>\n",
       "    </tr>\n",
       "    <tr>\n",
       "      <th>2</th>\n",
       "      <td>8.099124</td>\n",
       "      <td>224.236259</td>\n",
       "      <td>19909.541732</td>\n",
       "      <td>9.275884</td>\n",
       "      <td>333.073546</td>\n",
       "      <td>418.606213</td>\n",
       "      <td>16.868637</td>\n",
       "      <td>66.420093</td>\n",
       "      <td>3.055934</td>\n",
       "      <td>0</td>\n",
       "    </tr>\n",
       "    <tr>\n",
       "      <th>3</th>\n",
       "      <td>8.316766</td>\n",
       "      <td>214.373394</td>\n",
       "      <td>22018.417441</td>\n",
       "      <td>8.059332</td>\n",
       "      <td>356.886136</td>\n",
       "      <td>363.266516</td>\n",
       "      <td>18.436524</td>\n",
       "      <td>100.341674</td>\n",
       "      <td>4.628771</td>\n",
       "      <td>0</td>\n",
       "    </tr>\n",
       "    <tr>\n",
       "      <th>4</th>\n",
       "      <td>9.092223</td>\n",
       "      <td>181.101509</td>\n",
       "      <td>17978.986339</td>\n",
       "      <td>6.546600</td>\n",
       "      <td>310.135738</td>\n",
       "      <td>398.410813</td>\n",
       "      <td>11.558279</td>\n",
       "      <td>31.997993</td>\n",
       "      <td>4.075075</td>\n",
       "      <td>0</td>\n",
       "    </tr>\n",
       "    <tr>\n",
       "      <th>...</th>\n",
       "      <td>...</td>\n",
       "      <td>...</td>\n",
       "      <td>...</td>\n",
       "      <td>...</td>\n",
       "      <td>...</td>\n",
       "      <td>...</td>\n",
       "      <td>...</td>\n",
       "      <td>...</td>\n",
       "      <td>...</td>\n",
       "      <td>...</td>\n",
       "    </tr>\n",
       "    <tr>\n",
       "      <th>3271</th>\n",
       "      <td>4.668102</td>\n",
       "      <td>193.681735</td>\n",
       "      <td>47580.991603</td>\n",
       "      <td>7.166639</td>\n",
       "      <td>359.948574</td>\n",
       "      <td>526.424171</td>\n",
       "      <td>13.894419</td>\n",
       "      <td>66.687695</td>\n",
       "      <td>4.435821</td>\n",
       "      <td>1</td>\n",
       "    </tr>\n",
       "    <tr>\n",
       "      <th>3272</th>\n",
       "      <td>7.808856</td>\n",
       "      <td>193.553212</td>\n",
       "      <td>17329.802160</td>\n",
       "      <td>8.061362</td>\n",
       "      <td>333.073546</td>\n",
       "      <td>392.449580</td>\n",
       "      <td>19.903225</td>\n",
       "      <td>66.622485</td>\n",
       "      <td>2.798243</td>\n",
       "      <td>1</td>\n",
       "    </tr>\n",
       "    <tr>\n",
       "      <th>3273</th>\n",
       "      <td>9.419510</td>\n",
       "      <td>175.762646</td>\n",
       "      <td>33155.578218</td>\n",
       "      <td>7.350233</td>\n",
       "      <td>333.073546</td>\n",
       "      <td>432.044783</td>\n",
       "      <td>11.039070</td>\n",
       "      <td>69.845400</td>\n",
       "      <td>3.298875</td>\n",
       "      <td>1</td>\n",
       "    </tr>\n",
       "    <tr>\n",
       "      <th>3274</th>\n",
       "      <td>5.126763</td>\n",
       "      <td>230.603758</td>\n",
       "      <td>11983.869376</td>\n",
       "      <td>6.303357</td>\n",
       "      <td>333.073546</td>\n",
       "      <td>402.883113</td>\n",
       "      <td>11.168946</td>\n",
       "      <td>77.488213</td>\n",
       "      <td>4.708658</td>\n",
       "      <td>1</td>\n",
       "    </tr>\n",
       "    <tr>\n",
       "      <th>3275</th>\n",
       "      <td>7.874671</td>\n",
       "      <td>195.102299</td>\n",
       "      <td>17404.177061</td>\n",
       "      <td>7.509306</td>\n",
       "      <td>333.073546</td>\n",
       "      <td>327.459760</td>\n",
       "      <td>16.140368</td>\n",
       "      <td>78.698446</td>\n",
       "      <td>2.309149</td>\n",
       "      <td>1</td>\n",
       "    </tr>\n",
       "  </tbody>\n",
       "</table>\n",
       "<p>3276 rows × 10 columns</p>\n",
       "</div>"
      ],
      "text/plain": [
       "            ph    Hardness        Solids  Chloramines     Sulfate  \\\n",
       "0     7.036752  204.890455  20791.318981     7.300212  368.516441   \n",
       "1     3.716080  129.422921  18630.057858     6.635246  333.073546   \n",
       "2     8.099124  224.236259  19909.541732     9.275884  333.073546   \n",
       "3     8.316766  214.373394  22018.417441     8.059332  356.886136   \n",
       "4     9.092223  181.101509  17978.986339     6.546600  310.135738   \n",
       "...        ...         ...           ...          ...         ...   \n",
       "3271  4.668102  193.681735  47580.991603     7.166639  359.948574   \n",
       "3272  7.808856  193.553212  17329.802160     8.061362  333.073546   \n",
       "3273  9.419510  175.762646  33155.578218     7.350233  333.073546   \n",
       "3274  5.126763  230.603758  11983.869376     6.303357  333.073546   \n",
       "3275  7.874671  195.102299  17404.177061     7.509306  333.073546   \n",
       "\n",
       "      Conductivity  Organic_carbon  Trihalomethanes  Turbidity  Potability  \n",
       "0       564.308654       10.379783        86.990970   2.963135           0  \n",
       "1       592.885359       15.180013        56.329076   4.500656           0  \n",
       "2       418.606213       16.868637        66.420093   3.055934           0  \n",
       "3       363.266516       18.436524       100.341674   4.628771           0  \n",
       "4       398.410813       11.558279        31.997993   4.075075           0  \n",
       "...            ...             ...              ...        ...         ...  \n",
       "3271    526.424171       13.894419        66.687695   4.435821           1  \n",
       "3272    392.449580       19.903225        66.622485   2.798243           1  \n",
       "3273    432.044783       11.039070        69.845400   3.298875           1  \n",
       "3274    402.883113       11.168946        77.488213   4.708658           1  \n",
       "3275    327.459760       16.140368        78.698446   2.309149           1  \n",
       "\n",
       "[3276 rows x 10 columns]"
      ]
     },
     "execution_count": 136,
     "metadata": {},
     "output_type": "execute_result"
    }
   ],
   "source": [
    "df"
   ]
  },
  {
   "cell_type": "code",
   "execution_count": 137,
   "id": "b5b486d6-d1f4-43da-b18e-c7c9c1d24889",
   "metadata": {},
   "outputs": [
    {
     "data": {
      "text/plain": [
       "['svm.pkl']"
      ]
     },
     "execution_count": 137,
     "metadata": {},
     "output_type": "execute_result"
    }
   ],
   "source": [
    "import joblib \n",
    "joblib.dump(svm, \"svm.pkl\")"
   ]
  }
 ],
 "metadata": {
  "kernelspec": {
   "display_name": "Python 3 (ipykernel)",
   "language": "python",
   "name": "python3"
  },
  "language_info": {
   "codemirror_mode": {
    "name": "ipython",
    "version": 3
   },
   "file_extension": ".py",
   "mimetype": "text/x-python",
   "name": "python",
   "nbconvert_exporter": "python",
   "pygments_lexer": "ipython3",
   "version": "3.11.7"
  }
 },
 "nbformat": 4,
 "nbformat_minor": 5
}
